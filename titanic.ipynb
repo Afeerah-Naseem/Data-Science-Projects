{
 "cells": [
  {
   "cell_type": "code",
   "execution_count": 1,
   "id": "e4987a81",
   "metadata": {
    "_cell_guid": "b1076dfc-b9ad-4769-8c92-a6c4dae69d19",
    "_uuid": "8f2839f25d086af736a60e9eeb907d3b93b6e0e5",
    "execution": {
     "iopub.execute_input": "2024-06-10T18:26:17.783406Z",
     "iopub.status.busy": "2024-06-10T18:26:17.782932Z",
     "iopub.status.idle": "2024-06-10T18:26:18.764802Z",
     "shell.execute_reply": "2024-06-10T18:26:18.763222Z"
    },
    "papermill": {
     "duration": 1.003982,
     "end_time": "2024-06-10T18:26:18.767336",
     "exception": false,
     "start_time": "2024-06-10T18:26:17.763354",
     "status": "completed"
    },
    "tags": []
   },
   "outputs": [
    {
     "name": "stdout",
     "output_type": "stream",
     "text": [
      "/kaggle/input/titanic/train.csv\n",
      "/kaggle/input/titanic/test.csv\n",
      "/kaggle/input/titanic/gender_submission.csv\n"
     ]
    }
   ],
   "source": [
    "# This Python 3 environment comes with many helpful analytics libraries installed\n",
    "# It is defined by the kaggle/python Docker image: https://github.com/kaggle/docker-python\n",
    "# For example, here's several helpful packages to load\n",
    "\n",
    "import numpy as np # linear algebra\n",
    "import pandas as pd # data processing, CSV file I/O (e.g. pd.read_csv)\n",
    "\n",
    "# Input data files are available in the read-only \"../input/\" directory\n",
    "# For example, running this (by clicking run or pressing Shift+Enter) will list all files under the input directory\n",
    "\n",
    "import os\n",
    "for dirname, _, filenames in os.walk('/kaggle/input'):\n",
    "    for filename in filenames:\n",
    "        print(os.path.join(dirname, filename))\n",
    "\n",
    "# You can write up to 20GB to the current directory (/kaggle/working/) that gets preserved as output when you create a version using \"Save & Run All\" \n",
    "# You can also write temporary files to /kaggle/temp/, but they won't be saved outside of the current session"
   ]
  },
  {
   "cell_type": "code",
   "execution_count": 2,
   "id": "dfce9505",
   "metadata": {
    "execution": {
     "iopub.execute_input": "2024-06-10T18:26:18.806114Z",
     "iopub.status.busy": "2024-06-10T18:26:18.805013Z",
     "iopub.status.idle": "2024-06-10T18:26:20.301878Z",
     "shell.execute_reply": "2024-06-10T18:26:20.300631Z"
    },
    "papermill": {
     "duration": 1.519485,
     "end_time": "2024-06-10T18:26:20.304581",
     "exception": false,
     "start_time": "2024-06-10T18:26:18.785096",
     "status": "completed"
    },
    "tags": []
   },
   "outputs": [],
   "source": [
    "import matplotlib.pyplot as plt\n",
    "import seaborn as sns"
   ]
  },
  {
   "cell_type": "code",
   "execution_count": 3,
   "id": "7a35e035",
   "metadata": {
    "execution": {
     "iopub.execute_input": "2024-06-10T18:26:20.342100Z",
     "iopub.status.busy": "2024-06-10T18:26:20.341668Z",
     "iopub.status.idle": "2024-06-10T18:26:20.378342Z",
     "shell.execute_reply": "2024-06-10T18:26:20.376946Z"
    },
    "papermill": {
     "duration": 0.05899,
     "end_time": "2024-06-10T18:26:20.381269",
     "exception": false,
     "start_time": "2024-06-10T18:26:20.322279",
     "status": "completed"
    },
    "tags": []
   },
   "outputs": [],
   "source": [
    "df = pd.read_csv(\"/kaggle/input/titanic/train.csv\")\n",
    "df1 = pd.read_csv(\"/kaggle/input/titanic/test.csv\")"
   ]
  },
  {
   "cell_type": "code",
   "execution_count": 4,
   "id": "8663d4c9",
   "metadata": {
    "execution": {
     "iopub.execute_input": "2024-06-10T18:26:20.420128Z",
     "iopub.status.busy": "2024-06-10T18:26:20.419303Z",
     "iopub.status.idle": "2024-06-10T18:26:20.455386Z",
     "shell.execute_reply": "2024-06-10T18:26:20.454311Z"
    },
    "papermill": {
     "duration": 0.058398,
     "end_time": "2024-06-10T18:26:20.458056",
     "exception": false,
     "start_time": "2024-06-10T18:26:20.399658",
     "status": "completed"
    },
    "tags": []
   },
   "outputs": [
    {
     "data": {
      "text/html": [
       "<div>\n",
       "<style scoped>\n",
       "    .dataframe tbody tr th:only-of-type {\n",
       "        vertical-align: middle;\n",
       "    }\n",
       "\n",
       "    .dataframe tbody tr th {\n",
       "        vertical-align: top;\n",
       "    }\n",
       "\n",
       "    .dataframe thead th {\n",
       "        text-align: right;\n",
       "    }\n",
       "</style>\n",
       "<table border=\"1\" class=\"dataframe\">\n",
       "  <thead>\n",
       "    <tr style=\"text-align: right;\">\n",
       "      <th></th>\n",
       "      <th>PassengerId</th>\n",
       "      <th>Survived</th>\n",
       "      <th>Pclass</th>\n",
       "      <th>Name</th>\n",
       "      <th>Sex</th>\n",
       "      <th>Age</th>\n",
       "      <th>SibSp</th>\n",
       "      <th>Parch</th>\n",
       "      <th>Ticket</th>\n",
       "      <th>Fare</th>\n",
       "      <th>Cabin</th>\n",
       "      <th>Embarked</th>\n",
       "    </tr>\n",
       "  </thead>\n",
       "  <tbody>\n",
       "    <tr>\n",
       "      <th>0</th>\n",
       "      <td>1</td>\n",
       "      <td>0</td>\n",
       "      <td>3</td>\n",
       "      <td>Braund, Mr. Owen Harris</td>\n",
       "      <td>male</td>\n",
       "      <td>22.0</td>\n",
       "      <td>1</td>\n",
       "      <td>0</td>\n",
       "      <td>A/5 21171</td>\n",
       "      <td>7.2500</td>\n",
       "      <td>NaN</td>\n",
       "      <td>S</td>\n",
       "    </tr>\n",
       "    <tr>\n",
       "      <th>1</th>\n",
       "      <td>2</td>\n",
       "      <td>1</td>\n",
       "      <td>1</td>\n",
       "      <td>Cumings, Mrs. John Bradley (Florence Briggs Th...</td>\n",
       "      <td>female</td>\n",
       "      <td>38.0</td>\n",
       "      <td>1</td>\n",
       "      <td>0</td>\n",
       "      <td>PC 17599</td>\n",
       "      <td>71.2833</td>\n",
       "      <td>C85</td>\n",
       "      <td>C</td>\n",
       "    </tr>\n",
       "    <tr>\n",
       "      <th>2</th>\n",
       "      <td>3</td>\n",
       "      <td>1</td>\n",
       "      <td>3</td>\n",
       "      <td>Heikkinen, Miss. Laina</td>\n",
       "      <td>female</td>\n",
       "      <td>26.0</td>\n",
       "      <td>0</td>\n",
       "      <td>0</td>\n",
       "      <td>STON/O2. 3101282</td>\n",
       "      <td>7.9250</td>\n",
       "      <td>NaN</td>\n",
       "      <td>S</td>\n",
       "    </tr>\n",
       "    <tr>\n",
       "      <th>3</th>\n",
       "      <td>4</td>\n",
       "      <td>1</td>\n",
       "      <td>1</td>\n",
       "      <td>Futrelle, Mrs. Jacques Heath (Lily May Peel)</td>\n",
       "      <td>female</td>\n",
       "      <td>35.0</td>\n",
       "      <td>1</td>\n",
       "      <td>0</td>\n",
       "      <td>113803</td>\n",
       "      <td>53.1000</td>\n",
       "      <td>C123</td>\n",
       "      <td>S</td>\n",
       "    </tr>\n",
       "    <tr>\n",
       "      <th>4</th>\n",
       "      <td>5</td>\n",
       "      <td>0</td>\n",
       "      <td>3</td>\n",
       "      <td>Allen, Mr. William Henry</td>\n",
       "      <td>male</td>\n",
       "      <td>35.0</td>\n",
       "      <td>0</td>\n",
       "      <td>0</td>\n",
       "      <td>373450</td>\n",
       "      <td>8.0500</td>\n",
       "      <td>NaN</td>\n",
       "      <td>S</td>\n",
       "    </tr>\n",
       "    <tr>\n",
       "      <th>...</th>\n",
       "      <td>...</td>\n",
       "      <td>...</td>\n",
       "      <td>...</td>\n",
       "      <td>...</td>\n",
       "      <td>...</td>\n",
       "      <td>...</td>\n",
       "      <td>...</td>\n",
       "      <td>...</td>\n",
       "      <td>...</td>\n",
       "      <td>...</td>\n",
       "      <td>...</td>\n",
       "      <td>...</td>\n",
       "    </tr>\n",
       "    <tr>\n",
       "      <th>886</th>\n",
       "      <td>887</td>\n",
       "      <td>0</td>\n",
       "      <td>2</td>\n",
       "      <td>Montvila, Rev. Juozas</td>\n",
       "      <td>male</td>\n",
       "      <td>27.0</td>\n",
       "      <td>0</td>\n",
       "      <td>0</td>\n",
       "      <td>211536</td>\n",
       "      <td>13.0000</td>\n",
       "      <td>NaN</td>\n",
       "      <td>S</td>\n",
       "    </tr>\n",
       "    <tr>\n",
       "      <th>887</th>\n",
       "      <td>888</td>\n",
       "      <td>1</td>\n",
       "      <td>1</td>\n",
       "      <td>Graham, Miss. Margaret Edith</td>\n",
       "      <td>female</td>\n",
       "      <td>19.0</td>\n",
       "      <td>0</td>\n",
       "      <td>0</td>\n",
       "      <td>112053</td>\n",
       "      <td>30.0000</td>\n",
       "      <td>B42</td>\n",
       "      <td>S</td>\n",
       "    </tr>\n",
       "    <tr>\n",
       "      <th>888</th>\n",
       "      <td>889</td>\n",
       "      <td>0</td>\n",
       "      <td>3</td>\n",
       "      <td>Johnston, Miss. Catherine Helen \"Carrie\"</td>\n",
       "      <td>female</td>\n",
       "      <td>NaN</td>\n",
       "      <td>1</td>\n",
       "      <td>2</td>\n",
       "      <td>W./C. 6607</td>\n",
       "      <td>23.4500</td>\n",
       "      <td>NaN</td>\n",
       "      <td>S</td>\n",
       "    </tr>\n",
       "    <tr>\n",
       "      <th>889</th>\n",
       "      <td>890</td>\n",
       "      <td>1</td>\n",
       "      <td>1</td>\n",
       "      <td>Behr, Mr. Karl Howell</td>\n",
       "      <td>male</td>\n",
       "      <td>26.0</td>\n",
       "      <td>0</td>\n",
       "      <td>0</td>\n",
       "      <td>111369</td>\n",
       "      <td>30.0000</td>\n",
       "      <td>C148</td>\n",
       "      <td>C</td>\n",
       "    </tr>\n",
       "    <tr>\n",
       "      <th>890</th>\n",
       "      <td>891</td>\n",
       "      <td>0</td>\n",
       "      <td>3</td>\n",
       "      <td>Dooley, Mr. Patrick</td>\n",
       "      <td>male</td>\n",
       "      <td>32.0</td>\n",
       "      <td>0</td>\n",
       "      <td>0</td>\n",
       "      <td>370376</td>\n",
       "      <td>7.7500</td>\n",
       "      <td>NaN</td>\n",
       "      <td>Q</td>\n",
       "    </tr>\n",
       "  </tbody>\n",
       "</table>\n",
       "<p>891 rows × 12 columns</p>\n",
       "</div>"
      ],
      "text/plain": [
       "     PassengerId  Survived  Pclass  \\\n",
       "0              1         0       3   \n",
       "1              2         1       1   \n",
       "2              3         1       3   \n",
       "3              4         1       1   \n",
       "4              5         0       3   \n",
       "..           ...       ...     ...   \n",
       "886          887         0       2   \n",
       "887          888         1       1   \n",
       "888          889         0       3   \n",
       "889          890         1       1   \n",
       "890          891         0       3   \n",
       "\n",
       "                                                  Name     Sex   Age  SibSp  \\\n",
       "0                              Braund, Mr. Owen Harris    male  22.0      1   \n",
       "1    Cumings, Mrs. John Bradley (Florence Briggs Th...  female  38.0      1   \n",
       "2                               Heikkinen, Miss. Laina  female  26.0      0   \n",
       "3         Futrelle, Mrs. Jacques Heath (Lily May Peel)  female  35.0      1   \n",
       "4                             Allen, Mr. William Henry    male  35.0      0   \n",
       "..                                                 ...     ...   ...    ...   \n",
       "886                              Montvila, Rev. Juozas    male  27.0      0   \n",
       "887                       Graham, Miss. Margaret Edith  female  19.0      0   \n",
       "888           Johnston, Miss. Catherine Helen \"Carrie\"  female   NaN      1   \n",
       "889                              Behr, Mr. Karl Howell    male  26.0      0   \n",
       "890                                Dooley, Mr. Patrick    male  32.0      0   \n",
       "\n",
       "     Parch            Ticket     Fare Cabin Embarked  \n",
       "0        0         A/5 21171   7.2500   NaN        S  \n",
       "1        0          PC 17599  71.2833   C85        C  \n",
       "2        0  STON/O2. 3101282   7.9250   NaN        S  \n",
       "3        0            113803  53.1000  C123        S  \n",
       "4        0            373450   8.0500   NaN        S  \n",
       "..     ...               ...      ...   ...      ...  \n",
       "886      0            211536  13.0000   NaN        S  \n",
       "887      0            112053  30.0000   B42        S  \n",
       "888      2        W./C. 6607  23.4500   NaN        S  \n",
       "889      0            111369  30.0000  C148        C  \n",
       "890      0            370376   7.7500   NaN        Q  \n",
       "\n",
       "[891 rows x 12 columns]"
      ]
     },
     "execution_count": 4,
     "metadata": {},
     "output_type": "execute_result"
    }
   ],
   "source": [
    "df"
   ]
  },
  {
   "cell_type": "code",
   "execution_count": 5,
   "id": "b65d1816",
   "metadata": {
    "execution": {
     "iopub.execute_input": "2024-06-10T18:26:20.495841Z",
     "iopub.status.busy": "2024-06-10T18:26:20.495448Z",
     "iopub.status.idle": "2024-06-10T18:26:20.520473Z",
     "shell.execute_reply": "2024-06-10T18:26:20.518881Z"
    },
    "papermill": {
     "duration": 0.047019,
     "end_time": "2024-06-10T18:26:20.522963",
     "exception": false,
     "start_time": "2024-06-10T18:26:20.475944",
     "status": "completed"
    },
    "tags": []
   },
   "outputs": [
    {
     "name": "stdout",
     "output_type": "stream",
     "text": [
      "<class 'pandas.core.frame.DataFrame'>\n",
      "RangeIndex: 891 entries, 0 to 890\n",
      "Data columns (total 12 columns):\n",
      " #   Column       Non-Null Count  Dtype  \n",
      "---  ------       --------------  -----  \n",
      " 0   PassengerId  891 non-null    int64  \n",
      " 1   Survived     891 non-null    int64  \n",
      " 2   Pclass       891 non-null    int64  \n",
      " 3   Name         891 non-null    object \n",
      " 4   Sex          891 non-null    object \n",
      " 5   Age          714 non-null    float64\n",
      " 6   SibSp        891 non-null    int64  \n",
      " 7   Parch        891 non-null    int64  \n",
      " 8   Ticket       891 non-null    object \n",
      " 9   Fare         891 non-null    float64\n",
      " 10  Cabin        204 non-null    object \n",
      " 11  Embarked     889 non-null    object \n",
      "dtypes: float64(2), int64(5), object(5)\n",
      "memory usage: 83.7+ KB\n"
     ]
    }
   ],
   "source": [
    "df.info()"
   ]
  },
  {
   "cell_type": "code",
   "execution_count": 6,
   "id": "00e5c582",
   "metadata": {
    "execution": {
     "iopub.execute_input": "2024-06-10T18:26:20.561496Z",
     "iopub.status.busy": "2024-06-10T18:26:20.561076Z",
     "iopub.status.idle": "2024-06-10T18:26:20.594331Z",
     "shell.execute_reply": "2024-06-10T18:26:20.593284Z"
    },
    "papermill": {
     "duration": 0.055558,
     "end_time": "2024-06-10T18:26:20.596897",
     "exception": false,
     "start_time": "2024-06-10T18:26:20.541339",
     "status": "completed"
    },
    "tags": []
   },
   "outputs": [
    {
     "data": {
      "text/html": [
       "<div>\n",
       "<style scoped>\n",
       "    .dataframe tbody tr th:only-of-type {\n",
       "        vertical-align: middle;\n",
       "    }\n",
       "\n",
       "    .dataframe tbody tr th {\n",
       "        vertical-align: top;\n",
       "    }\n",
       "\n",
       "    .dataframe thead th {\n",
       "        text-align: right;\n",
       "    }\n",
       "</style>\n",
       "<table border=\"1\" class=\"dataframe\">\n",
       "  <thead>\n",
       "    <tr style=\"text-align: right;\">\n",
       "      <th></th>\n",
       "      <th>PassengerId</th>\n",
       "      <th>Survived</th>\n",
       "      <th>Pclass</th>\n",
       "      <th>Age</th>\n",
       "      <th>SibSp</th>\n",
       "      <th>Parch</th>\n",
       "      <th>Fare</th>\n",
       "    </tr>\n",
       "  </thead>\n",
       "  <tbody>\n",
       "    <tr>\n",
       "      <th>count</th>\n",
       "      <td>891.000000</td>\n",
       "      <td>891.000000</td>\n",
       "      <td>891.000000</td>\n",
       "      <td>714.000000</td>\n",
       "      <td>891.000000</td>\n",
       "      <td>891.000000</td>\n",
       "      <td>891.000000</td>\n",
       "    </tr>\n",
       "    <tr>\n",
       "      <th>mean</th>\n",
       "      <td>446.000000</td>\n",
       "      <td>0.383838</td>\n",
       "      <td>2.308642</td>\n",
       "      <td>29.699118</td>\n",
       "      <td>0.523008</td>\n",
       "      <td>0.381594</td>\n",
       "      <td>32.204208</td>\n",
       "    </tr>\n",
       "    <tr>\n",
       "      <th>std</th>\n",
       "      <td>257.353842</td>\n",
       "      <td>0.486592</td>\n",
       "      <td>0.836071</td>\n",
       "      <td>14.526497</td>\n",
       "      <td>1.102743</td>\n",
       "      <td>0.806057</td>\n",
       "      <td>49.693429</td>\n",
       "    </tr>\n",
       "    <tr>\n",
       "      <th>min</th>\n",
       "      <td>1.000000</td>\n",
       "      <td>0.000000</td>\n",
       "      <td>1.000000</td>\n",
       "      <td>0.420000</td>\n",
       "      <td>0.000000</td>\n",
       "      <td>0.000000</td>\n",
       "      <td>0.000000</td>\n",
       "    </tr>\n",
       "    <tr>\n",
       "      <th>25%</th>\n",
       "      <td>223.500000</td>\n",
       "      <td>0.000000</td>\n",
       "      <td>2.000000</td>\n",
       "      <td>20.125000</td>\n",
       "      <td>0.000000</td>\n",
       "      <td>0.000000</td>\n",
       "      <td>7.910400</td>\n",
       "    </tr>\n",
       "    <tr>\n",
       "      <th>50%</th>\n",
       "      <td>446.000000</td>\n",
       "      <td>0.000000</td>\n",
       "      <td>3.000000</td>\n",
       "      <td>28.000000</td>\n",
       "      <td>0.000000</td>\n",
       "      <td>0.000000</td>\n",
       "      <td>14.454200</td>\n",
       "    </tr>\n",
       "    <tr>\n",
       "      <th>75%</th>\n",
       "      <td>668.500000</td>\n",
       "      <td>1.000000</td>\n",
       "      <td>3.000000</td>\n",
       "      <td>38.000000</td>\n",
       "      <td>1.000000</td>\n",
       "      <td>0.000000</td>\n",
       "      <td>31.000000</td>\n",
       "    </tr>\n",
       "    <tr>\n",
       "      <th>max</th>\n",
       "      <td>891.000000</td>\n",
       "      <td>1.000000</td>\n",
       "      <td>3.000000</td>\n",
       "      <td>80.000000</td>\n",
       "      <td>8.000000</td>\n",
       "      <td>6.000000</td>\n",
       "      <td>512.329200</td>\n",
       "    </tr>\n",
       "  </tbody>\n",
       "</table>\n",
       "</div>"
      ],
      "text/plain": [
       "       PassengerId    Survived      Pclass         Age       SibSp  \\\n",
       "count   891.000000  891.000000  891.000000  714.000000  891.000000   \n",
       "mean    446.000000    0.383838    2.308642   29.699118    0.523008   \n",
       "std     257.353842    0.486592    0.836071   14.526497    1.102743   \n",
       "min       1.000000    0.000000    1.000000    0.420000    0.000000   \n",
       "25%     223.500000    0.000000    2.000000   20.125000    0.000000   \n",
       "50%     446.000000    0.000000    3.000000   28.000000    0.000000   \n",
       "75%     668.500000    1.000000    3.000000   38.000000    1.000000   \n",
       "max     891.000000    1.000000    3.000000   80.000000    8.000000   \n",
       "\n",
       "            Parch        Fare  \n",
       "count  891.000000  891.000000  \n",
       "mean     0.381594   32.204208  \n",
       "std      0.806057   49.693429  \n",
       "min      0.000000    0.000000  \n",
       "25%      0.000000    7.910400  \n",
       "50%      0.000000   14.454200  \n",
       "75%      0.000000   31.000000  \n",
       "max      6.000000  512.329200  "
      ]
     },
     "execution_count": 6,
     "metadata": {},
     "output_type": "execute_result"
    }
   ],
   "source": [
    "df.describe()"
   ]
  },
  {
   "cell_type": "code",
   "execution_count": 7,
   "id": "21c7dff1",
   "metadata": {
    "execution": {
     "iopub.execute_input": "2024-06-10T18:26:20.638084Z",
     "iopub.status.busy": "2024-06-10T18:26:20.637255Z",
     "iopub.status.idle": "2024-06-10T18:26:23.829194Z",
     "shell.execute_reply": "2024-06-10T18:26:23.828060Z"
    },
    "papermill": {
     "duration": 3.217308,
     "end_time": "2024-06-10T18:26:23.833044",
     "exception": false,
     "start_time": "2024-06-10T18:26:20.615736",
     "status": "completed"
    },
    "tags": []
   },
   "outputs": [
    {
     "name": "stderr",
     "output_type": "stream",
     "text": [
      "/opt/conda/lib/python3.10/site-packages/seaborn/_oldcore.py:1119: FutureWarning: use_inf_as_na option is deprecated and will be removed in a future version. Convert inf values to NaN before operating instead.\n",
      "  with pd.option_context('mode.use_inf_as_na', True):\n",
      "/opt/conda/lib/python3.10/site-packages/seaborn/_oldcore.py:1119: FutureWarning: use_inf_as_na option is deprecated and will be removed in a future version. Convert inf values to NaN before operating instead.\n",
      "  with pd.option_context('mode.use_inf_as_na', True):\n"
     ]
    },
    {
     "data": {
      "image/png": "[encoded data removed]",
      "text/plain": [
       "<Figure size 1800x1800 with 9 Axes>"
      ]
     },
     "metadata": {},
     "output_type": "display_data"
    }
   ],
   "source": [
    "# Set the aesthetic style of the plots\n",
    "sns.set_style(\"whitegrid\")\n",
    "\n",
    "# Define the figure size and layout\n",
    "fig, axes = plt.subplots(3, 3, figsize=(18, 18))\n",
    "\n",
    "# Flatten the axes array for easy iteration\n",
    "axes = axes.flatten()\n",
    "\n",
    "# Create count plots for categorical variables\n",
    "for i, col in enumerate(['Sex','Pclass','Survived','Embarked','SibSp','Parch']):\n",
    "    sns.countplot(x=col, data=df, palette='Set2', ax=axes[i])\n",
    "    axes[i].set_title(f'Count Plot of {col.capitalize()}')\n",
    "\n",
    "# Create histograms for numerical variables\n",
    "for i, col in enumerate(['Age','Fare'],start=len(['Sex','Pclass','Survived','Embarked','SibSp','Parch'])):\n",
    "    sns.histplot(df[col], kde=True, bins=30, color='skyblue', ax=axes[i])\n",
    "    axes[i].set_title(f'Distribution of {col.capitalize()}')\n",
    "\n",
    "# Adjust layout to prevent overlap\n",
    "plt.tight_layout()\n",
    "plt.show()"
   ]
  },
  {
   "cell_type": "markdown",
   "id": "d81594a8",
   "metadata": {
    "papermill": {
     "duration": 0.020774,
     "end_time": "2024-06-10T18:26:23.874622",
     "exception": false,
     "start_time": "2024-06-10T18:26:23.853848",
     "status": "completed"
    },
    "tags": []
   },
   "source": [
    "Insights:\n",
    "1. There were more Males(64.76%) than Females(35.24%).\n",
    "2. 55% of the people were in class 3. In class 1(20%) and in class 2(24%),there were almost equal number of people.\n",
    "3. 62% of people did not survive.\n",
    "4. 72.4% of people embarked from Southampton.\n",
    "5. 68% had no siblings or spouses on board.\n",
    "6. 76% had no parents or children on board.\n",
    "7. Most of the people were in their 20s or 30s."
   ]
  },
  {
   "cell_type": "code",
   "execution_count": 8,
   "id": "4bf60283",
   "metadata": {
    "execution": {
     "iopub.execute_input": "2024-06-10T18:26:23.924302Z",
     "iopub.status.busy": "2024-06-10T18:26:23.923770Z",
     "iopub.status.idle": "2024-06-10T18:26:23.930088Z",
     "shell.execute_reply": "2024-06-10T18:26:23.928911Z"
    },
    "papermill": {
     "duration": 0.034183,
     "end_time": "2024-06-10T18:26:23.932575",
     "exception": false,
     "start_time": "2024-06-10T18:26:23.898392",
     "status": "completed"
    },
    "tags": []
   },
   "outputs": [],
   "source": [
    "def percentage(column_name):\n",
    "    return df[column_name].value_counts(normalize=True)*100"
   ]
  },
  {
   "cell_type": "code",
   "execution_count": 9,
   "id": "8d57a478",
   "metadata": {
    "execution": {
     "iopub.execute_input": "2024-06-10T18:26:23.977362Z",
     "iopub.status.busy": "2024-06-10T18:26:23.976050Z",
     "iopub.status.idle": "2024-06-10T18:26:23.997154Z",
     "shell.execute_reply": "2024-06-10T18:26:23.995726Z"
    },
    "papermill": {
     "duration": 0.046489,
     "end_time": "2024-06-10T18:26:24.000190",
     "exception": false,
     "start_time": "2024-06-10T18:26:23.953701",
     "status": "completed"
    },
    "tags": []
   },
   "outputs": [
    {
     "data": {
      "text/plain": [
       "(Sex\n",
       " male      64.758698\n",
       " female    35.241302\n",
       " Name: proportion, dtype: float64,\n",
       " Pclass\n",
       " 3    55.106622\n",
       " 1    24.242424\n",
       " 2    20.650954\n",
       " Name: proportion, dtype: float64,\n",
       " Survived\n",
       " 0    61.616162\n",
       " 1    38.383838\n",
       " Name: proportion, dtype: float64,\n",
       " Embarked\n",
       " S    72.440945\n",
       " C    18.897638\n",
       " Q     8.661417\n",
       " Name: proportion, dtype: float64,\n",
       " SibSp\n",
       " 0    68.237935\n",
       " 1    23.456790\n",
       " 2     3.142536\n",
       " 4     2.020202\n",
       " 3     1.795735\n",
       " 8     0.785634\n",
       " 5     0.561167\n",
       " Name: proportion, dtype: float64,\n",
       " Parch\n",
       " 0    76.094276\n",
       " 1    13.243547\n",
       " 2     8.978676\n",
       " 5     0.561167\n",
       " 3     0.561167\n",
       " 4     0.448934\n",
       " 6     0.112233\n",
       " Name: proportion, dtype: float64)"
      ]
     },
     "execution_count": 9,
     "metadata": {},
     "output_type": "execute_result"
    }
   ],
   "source": [
    "percentage('Sex'), percentage('Pclass'), percentage('Survived'),percentage('Embarked'), percentage('SibSp'), percentage('Parch')"
   ]
  },
  {
   "cell_type": "code",
   "execution_count": 10,
   "id": "40b8e3fe",
   "metadata": {
    "execution": {
     "iopub.execute_input": "2024-06-10T18:26:24.045343Z",
     "iopub.status.busy": "2024-06-10T18:26:24.044174Z",
     "iopub.status.idle": "2024-06-10T18:26:26.855151Z",
     "shell.execute_reply": "2024-06-10T18:26:26.854017Z"
    },
    "papermill": {
     "duration": 2.837059,
     "end_time": "2024-06-10T18:26:26.858963",
     "exception": false,
     "start_time": "2024-06-10T18:26:24.021904",
     "status": "completed"
    },
    "tags": []
   },
   "outputs": [
    {
     "name": "stderr",
     "output_type": "stream",
     "text": [
      "/opt/conda/lib/python3.10/site-packages/seaborn/_oldcore.py:1119: FutureWarning: use_inf_as_na option is deprecated and will be removed in a future version. Convert inf values to NaN before operating instead.\n",
      "  with pd.option_context('mode.use_inf_as_na', True):\n",
      "/opt/conda/lib/python3.10/site-packages/seaborn/_oldcore.py:1075: FutureWarning: When grouping with a length-1 list-like, you will need to pass a length-1 tuple to get_group in a future version of pandas. Pass `(name,)` instead of `name` to silence this warning.\n",
      "  data_subset = grouped_data.get_group(pd_key)\n",
      "/opt/conda/lib/python3.10/site-packages/seaborn/_oldcore.py:1075: FutureWarning: When grouping with a length-1 list-like, you will need to pass a length-1 tuple to get_group in a future version of pandas. Pass `(name,)` instead of `name` to silence this warning.\n",
      "  data_subset = grouped_data.get_group(pd_key)\n",
      "/opt/conda/lib/python3.10/site-packages/seaborn/_oldcore.py:1119: FutureWarning: use_inf_as_na option is deprecated and will be removed in a future version. Convert inf values to NaN before operating instead.\n",
      "  with pd.option_context('mode.use_inf_as_na', True):\n",
      "/opt/conda/lib/python3.10/site-packages/seaborn/_oldcore.py:1075: FutureWarning: When grouping with a length-1 list-like, you will need to pass a length-1 tuple to get_group in a future version of pandas. Pass `(name,)` instead of `name` to silence this warning.\n",
      "  data_subset = grouped_data.get_group(pd_key)\n",
      "/opt/conda/lib/python3.10/site-packages/seaborn/_oldcore.py:1075: FutureWarning: When grouping with a length-1 list-like, you will need to pass a length-1 tuple to get_group in a future version of pandas. Pass `(name,)` instead of `name` to silence this warning.\n",
      "  data_subset = grouped_data.get_group(pd_key)\n"
     ]
    },
    {
     "data": {
      "image/png": "[encoded data removed]",
      "text/plain": [
       "<Figure size 1800x1800 with 7 Axes>"
      ]
     },
     "metadata": {},
     "output_type": "display_data"
    }
   ],
   "source": [
    "\n",
    "# Set the aesthetic style of the plots\n",
    "sns.set_style(\"whitegrid\")\n",
    "\n",
    "# Define the figure size and layout\n",
    "fig, axes = plt.subplots(3, 3, figsize=(18, 18))\n",
    "\n",
    "# Flatten the axes array for easy iteration\n",
    "axes = axes.flatten()\n",
    "\n",
    "# List of numerical columns for histograms\n",
    "histplot_columns = ['Fare', 'Age']\n",
    "\n",
    "# Create histograms or KDE plots for numerical variables split by 'Survived'\n",
    "for i, col in enumerate(histplot_columns):\n",
    "    sns.histplot(data=df, x=col, hue='Survived', element='step', ax=axes[i], kde=True, palette='Set2')\n",
    "    axes[i].set_title(f'{col.capitalize()} distribution by Survived')\n",
    "\n",
    "# List of categorical columns for count plots\n",
    "countplot_columns = ['Sex', 'Pclass', 'Embarked', 'SibSp', 'Parch']\n",
    "\n",
    "# Create count plots for categorical variables showing 'Survived'\n",
    "for i, col in enumerate(countplot_columns, start=len(histplot_columns)):\n",
    "    sns.countplot(data=df, x=col, hue='Survived', palette='Set2', ax=axes[i])\n",
    "    axes[i].set_title(f'{col.replace(\"_\", \" \").capitalize()} vs Survived')\n",
    "\n",
    "# Remove any unused subplots (if applicable)\n",
    "for j in range(len(histplot_columns) + len(countplot_columns), len(axes)):\n",
    "    fig.delaxes(axes[j])\n",
    "\n",
    "# Adjust layout to prevent overlap\n",
    "plt.tight_layout()\n",
    "plt.show()\n"
   ]
  },
  {
   "cell_type": "code",
   "execution_count": 11,
   "id": "15c08036",
   "metadata": {
    "execution": {
     "iopub.execute_input": "2024-06-10T18:26:26.908020Z",
     "iopub.status.busy": "2024-06-10T18:26:26.907569Z",
     "iopub.status.idle": "2024-06-10T18:26:26.914187Z",
     "shell.execute_reply": "2024-06-10T18:26:26.913088Z"
    },
    "papermill": {
     "duration": 0.033793,
     "end_time": "2024-06-10T18:26:26.916686",
     "exception": false,
     "start_time": "2024-06-10T18:26:26.882893",
     "status": "completed"
    },
    "tags": []
   },
   "outputs": [],
   "source": [
    "def calculate_percentages(df, column, target):\n",
    "    counts = df.groupby(column)[target].value_counts().unstack().fillna(0)\n",
    "    percentages = df.groupby(column)[target].value_counts(normalize=True).unstack().fillna(0) * 100\n",
    "    return counts, percentages"
   ]
  },
  {
   "cell_type": "code",
   "execution_count": 12,
   "id": "15b25946",
   "metadata": {
    "execution": {
     "iopub.execute_input": "2024-06-10T18:26:26.965694Z",
     "iopub.status.busy": "2024-06-10T18:26:26.965005Z",
     "iopub.status.idle": "2024-06-10T18:26:26.988661Z",
     "shell.execute_reply": "2024-06-10T18:26:26.987454Z"
    },
    "papermill": {
     "duration": 0.050957,
     "end_time": "2024-06-10T18:26:26.991123",
     "exception": false,
     "start_time": "2024-06-10T18:26:26.940166",
     "status": "completed"
    },
    "tags": []
   },
   "outputs": [
    {
     "data": {
      "text/plain": [
       "(Survived    0    1\n",
       " Sex               \n",
       " female     81  233\n",
       " male      468  109,\n",
       " Survived          0          1\n",
       " Sex                           \n",
       " female    25.796178  74.203822\n",
       " male      81.109185  18.890815)"
      ]
     },
     "execution_count": 12,
     "metadata": {},
     "output_type": "execute_result"
    }
   ],
   "source": [
    "calculate_percentages(df,'Sex','Survived') # Most of the females and few males survived. "
   ]
  },
  {
   "cell_type": "code",
   "execution_count": 13,
   "id": "f012acf8",
   "metadata": {
    "execution": {
     "iopub.execute_input": "2024-06-10T18:26:27.041011Z",
     "iopub.status.busy": "2024-06-10T18:26:27.040105Z",
     "iopub.status.idle": "2024-06-10T18:26:27.058739Z",
     "shell.execute_reply": "2024-06-10T18:26:27.057648Z"
    },
    "papermill": {
     "duration": 0.046297,
     "end_time": "2024-06-10T18:26:27.061261",
     "exception": false,
     "start_time": "2024-06-10T18:26:27.014964",
     "status": "completed"
    },
    "tags": []
   },
   "outputs": [
    {
     "data": {
      "text/plain": [
       "(Survived    0    1\n",
       " Pclass            \n",
       " 1          80  136\n",
       " 2          97   87\n",
       " 3         372  119,\n",
       " Survived          0          1\n",
       " Pclass                        \n",
       " 1         37.037037  62.962963\n",
       " 2         52.717391  47.282609\n",
       " 3         75.763747  24.236253)"
      ]
     },
     "execution_count": 13,
     "metadata": {},
     "output_type": "execute_result"
    }
   ],
   "source": [
    "calculate_percentages(df,'Pclass','Survived') #Most of the Class 1 members survived and most of the class 3 Members did not survive."
   ]
  },
  {
   "cell_type": "code",
   "execution_count": 14,
   "id": "290c9400",
   "metadata": {
    "execution": {
     "iopub.execute_input": "2024-06-10T18:26:27.110756Z",
     "iopub.status.busy": "2024-06-10T18:26:27.110366Z",
     "iopub.status.idle": "2024-06-10T18:26:27.131358Z",
     "shell.execute_reply": "2024-06-10T18:26:27.130295Z"
    },
    "papermill": {
     "duration": 0.048677,
     "end_time": "2024-06-10T18:26:27.133903",
     "exception": false,
     "start_time": "2024-06-10T18:26:27.085226",
     "status": "completed"
    },
    "tags": []
   },
   "outputs": [
    {
     "data": {
      "text/plain": [
       "(Survived    0    1\n",
       " Embarked          \n",
       " C          75   93\n",
       " Q          47   30\n",
       " S         427  217,\n",
       " Survived          0          1\n",
       " Embarked                      \n",
       " C         44.642857  55.357143\n",
       " Q         61.038961  38.961039\n",
       " S         66.304348  33.695652)"
      ]
     },
     "execution_count": 14,
     "metadata": {},
     "output_type": "execute_result"
    }
   ],
   "source": [
    "calculate_percentages(df,'Embarked','Survived') # Most of the people from Southampton did not survive."
   ]
  },
  {
   "cell_type": "code",
   "execution_count": 15,
   "id": "1cf4e3da",
   "metadata": {
    "execution": {
     "iopub.execute_input": "2024-06-10T18:26:27.182930Z",
     "iopub.status.busy": "2024-06-10T18:26:27.182512Z",
     "iopub.status.idle": "2024-06-10T18:26:27.802056Z",
     "shell.execute_reply": "2024-06-10T18:26:27.800980Z"
    },
    "papermill": {
     "duration": 0.647184,
     "end_time": "2024-06-10T18:26:27.804728",
     "exception": false,
     "start_time": "2024-06-10T18:26:27.157544",
     "status": "completed"
    },
    "tags": []
   },
   "outputs": [
    {
     "name": "stderr",
     "output_type": "stream",
     "text": [
      "/opt/conda/lib/python3.10/site-packages/seaborn/categorical.py:641: FutureWarning: The default of observed=False is deprecated and will be changed to True in a future version of pandas. Pass observed=False to retain current behavior or observed=True to adopt the future default and silence this warning.\n",
      "  grouped_vals = vals.groupby(grouper)\n",
      "/opt/conda/lib/python3.10/site-packages/seaborn/categorical.py:641: FutureWarning: The default of observed=False is deprecated and will be changed to True in a future version of pandas. Pass observed=False to retain current behavior or observed=True to adopt the future default and silence this warning.\n",
      "  grouped_vals = vals.groupby(grouper)\n",
      "/opt/conda/lib/python3.10/site-packages/seaborn/categorical.py:641: FutureWarning: The default of observed=False is deprecated and will be changed to True in a future version of pandas. Pass observed=False to retain current behavior or observed=True to adopt the future default and silence this warning.\n",
      "  grouped_vals = vals.groupby(grouper)\n",
      "/opt/conda/lib/python3.10/site-packages/seaborn/categorical.py:641: FutureWarning: The default of observed=False is deprecated and will be changed to True in a future version of pandas. Pass observed=False to retain current behavior or observed=True to adopt the future default and silence this warning.\n",
      "  grouped_vals = vals.groupby(grouper)\n"
     ]
    },
    {
     "data": {
      "image/png": "[encoded data removed]",
      "text/plain": [
       "<Figure size 1500x600 with 2 Axes>"
      ]
     },
     "metadata": {},
     "output_type": "display_data"
    }
   ],
   "source": [
    "# Create bins for 'Age' and 'Fare' columns\n",
    "age_bins = pd.cut(df['Age'], bins=4)  # Adjust the number of bins as needed\n",
    "fare_bins = pd.cut(df['Fare'], bins=2)  # Adjust the number of bins as needed\n",
    "\n",
    "# Set the aesthetic style of the plots\n",
    "sns.set_style(\"whitegrid\")\n",
    "\n",
    "# Define the figure size and layout\n",
    "fig, axes = plt.subplots(1, 2, figsize=(15, 6))\n",
    "\n",
    "# Create count plots for 'Age' and 'Fare' columns\n",
    "sns.countplot(data=df, x=age_bins, hue='Survived', palette='Set2', ax=axes[0])\n",
    "sns.countplot(data=df, x=fare_bins, hue='Survived', palette='Set2', ax=axes[1])\n",
    "\n",
    "# Set titles and labels\n",
    "axes[0].set_title('Age vs Survived')\n",
    "axes[0].set_xlabel('Age Bins')\n",
    "axes[0].set_ylabel('Count')\n",
    "axes[1].set_title('Fare vs Survived')\n",
    "axes[1].set_xlabel('Fare Bins')\n",
    "axes[1].set_ylabel('Count')\n",
    "\n",
    "# Adjust layout to prevent overlap\n",
    "plt.tight_layout()\n",
    "plt.show()"
   ]
  },
  {
   "cell_type": "code",
   "execution_count": 16,
   "id": "3bce6452",
   "metadata": {
    "execution": {
     "iopub.execute_input": "2024-06-10T18:26:27.857514Z",
     "iopub.status.busy": "2024-06-10T18:26:27.857097Z",
     "iopub.status.idle": "2024-06-10T18:26:28.261654Z",
     "shell.execute_reply": "2024-06-10T18:26:28.260702Z"
    },
    "papermill": {
     "duration": 0.434178,
     "end_time": "2024-06-10T18:26:28.264339",
     "exception": false,
     "start_time": "2024-06-10T18:26:27.830161",
     "status": "completed"
    },
    "tags": []
   },
   "outputs": [],
   "source": [
    "from sklearn.model_selection import train_test_split\n",
    "train_df, val_df = train_test_split(df, test_size=0.2, random_state=42)\n",
    "# Separate input and target variables\n",
    "input_columns = [col for col in df.columns if col != 'Survived']\n",
    "target_column = 'Survived'\n",
    "\n",
    "# Training data\n",
    "X_df = train_df[input_columns]\n",
    "y_df = train_df[target_column]\n",
    "\n",
    "#Validation data\n",
    "X_val = val_df[input_columns]\n",
    "y_val = val_df[target_column]"
   ]
  },
  {
   "cell_type": "code",
   "execution_count": 17,
   "id": "17211681",
   "metadata": {
    "execution": {
     "iopub.execute_input": "2024-06-10T18:26:28.315067Z",
     "iopub.status.busy": "2024-06-10T18:26:28.314649Z",
     "iopub.status.idle": "2024-06-10T18:26:28.320811Z",
     "shell.execute_reply": "2024-06-10T18:26:28.319583Z"
    },
    "papermill": {
     "duration": 0.034497,
     "end_time": "2024-06-10T18:26:28.323202",
     "exception": false,
     "start_time": "2024-06-10T18:26:28.288705",
     "status": "completed"
    },
    "tags": []
   },
   "outputs": [],
   "source": [
    "X_test = df1[input_columns]\n"
   ]
  },
  {
   "cell_type": "code",
   "execution_count": 18,
   "id": "21cd7ced",
   "metadata": {
    "execution": {
     "iopub.execute_input": "2024-06-10T18:26:28.374662Z",
     "iopub.status.busy": "2024-06-10T18:26:28.373541Z",
     "iopub.status.idle": "2024-06-10T18:26:28.378892Z",
     "shell.execute_reply": "2024-06-10T18:26:28.377698Z"
    },
    "papermill": {
     "duration": 0.033602,
     "end_time": "2024-06-10T18:26:28.381270",
     "exception": false,
     "start_time": "2024-06-10T18:26:28.347668",
     "status": "completed"
    },
    "tags": []
   },
   "outputs": [],
   "source": [
    "from sklearn.preprocessing import OneHotEncoder"
   ]
  },
  {
   "cell_type": "code",
   "execution_count": 19,
   "id": "625c26d1",
   "metadata": {
    "execution": {
     "iopub.execute_input": "2024-06-10T18:26:28.432441Z",
     "iopub.status.busy": "2024-06-10T18:26:28.431517Z",
     "iopub.status.idle": "2024-06-10T18:26:28.451968Z",
     "shell.execute_reply": "2024-06-10T18:26:28.450393Z"
    },
    "papermill": {
     "duration": 0.049027,
     "end_time": "2024-06-10T18:26:28.454689",
     "exception": false,
     "start_time": "2024-06-10T18:26:28.405662",
     "status": "completed"
    },
    "tags": []
   },
   "outputs": [],
   "source": [
    "categorical_columns = ['Pclass','Embarked']\n",
    "encoder = OneHotEncoder(sparse_output=False, handle_unknown='ignore').fit(df[categorical_columns])\n",
    "encoded_cols = list(encoder.get_feature_names_out(categorical_columns))\n",
    "X_df[encoded_cols] = encoder.transform(X_df[categorical_columns])\n",
    "X_val[encoded_cols] = encoder.transform(X_val[categorical_columns])"
   ]
  },
  {
   "cell_type": "code",
   "execution_count": 20,
   "id": "06f50de7",
   "metadata": {
    "execution": {
     "iopub.execute_input": "2024-06-10T18:26:28.506386Z",
     "iopub.status.busy": "2024-06-10T18:26:28.505448Z",
     "iopub.status.idle": "2024-06-10T18:26:28.513579Z",
     "shell.execute_reply": "2024-06-10T18:26:28.512440Z"
    },
    "papermill": {
     "duration": 0.036815,
     "end_time": "2024-06-10T18:26:28.516056",
     "exception": false,
     "start_time": "2024-06-10T18:26:28.479241",
     "status": "completed"
    },
    "tags": []
   },
   "outputs": [],
   "source": [
    "X_train_new = X_df.drop(['PassengerId','Embarked_nan','Cabin','Name','Ticket','Embarked','Pclass'],axis=1)\n",
    "X_val_new = X_val.drop(['PassengerId','Embarked_nan','Cabin','Name','Ticket','Embarked','Pclass'],axis=1)"
   ]
  },
  {
   "cell_type": "code",
   "execution_count": 21,
   "id": "1d76c8d3",
   "metadata": {
    "execution": {
     "iopub.execute_input": "2024-06-10T18:26:28.567973Z",
     "iopub.status.busy": "2024-06-10T18:26:28.566678Z",
     "iopub.status.idle": "2024-06-10T18:26:28.738383Z",
     "shell.execute_reply": "2024-06-10T18:26:28.737319Z"
    },
    "papermill": {
     "duration": 0.20071,
     "end_time": "2024-06-10T18:26:28.741206",
     "exception": false,
     "start_time": "2024-06-10T18:26:28.540496",
     "status": "completed"
    },
    "tags": []
   },
   "outputs": [],
   "source": [
    "from sklearn.impute import SimpleImputer"
   ]
  },
  {
   "cell_type": "code",
   "execution_count": 22,
   "id": "e9517194",
   "metadata": {
    "execution": {
     "iopub.execute_input": "2024-06-10T18:26:28.853025Z",
     "iopub.status.busy": "2024-06-10T18:26:28.852601Z",
     "iopub.status.idle": "2024-06-10T18:26:28.867608Z",
     "shell.execute_reply": "2024-06-10T18:26:28.866476Z"
    },
    "papermill": {
     "duration": 0.043729,
     "end_time": "2024-06-10T18:26:28.870141",
     "exception": false,
     "start_time": "2024-06-10T18:26:28.826412",
     "status": "completed"
    },
    "tags": []
   },
   "outputs": [],
   "source": [
    "numeric_columns = ['Age','Fare']\n",
    "imputer = SimpleImputer(strategy = 'mean').fit(df[numeric_columns])\n",
    "X_train_new[numeric_columns] = imputer.transform(X_train_new[numeric_columns])\n",
    "X_val_new[numeric_columns] = imputer.transform(X_val_new[numeric_columns])"
   ]
  },
  {
   "cell_type": "code",
   "execution_count": 23,
   "id": "618a730a",
   "metadata": {
    "execution": {
     "iopub.execute_input": "2024-06-10T18:26:28.923112Z",
     "iopub.status.busy": "2024-06-10T18:26:28.921889Z",
     "iopub.status.idle": "2024-06-10T18:26:28.950110Z",
     "shell.execute_reply": "2024-06-10T18:26:28.948955Z"
    },
    "papermill": {
     "duration": 0.056656,
     "end_time": "2024-06-10T18:26:28.952533",
     "exception": false,
     "start_time": "2024-06-10T18:26:28.895877",
     "status": "completed"
    },
    "tags": []
   },
   "outputs": [
    {
     "data": {
      "text/html": [
       "<div>\n",
       "<style scoped>\n",
       "    .dataframe tbody tr th:only-of-type {\n",
       "        vertical-align: middle;\n",
       "    }\n",
       "\n",
       "    .dataframe tbody tr th {\n",
       "        vertical-align: top;\n",
       "    }\n",
       "\n",
       "    .dataframe thead th {\n",
       "        text-align: right;\n",
       "    }\n",
       "</style>\n",
       "<table border=\"1\" class=\"dataframe\">\n",
       "  <thead>\n",
       "    <tr style=\"text-align: right;\">\n",
       "      <th></th>\n",
       "      <th>Sex</th>\n",
       "      <th>Age</th>\n",
       "      <th>SibSp</th>\n",
       "      <th>Parch</th>\n",
       "      <th>Fare</th>\n",
       "      <th>Pclass_1</th>\n",
       "      <th>Pclass_2</th>\n",
       "      <th>Pclass_3</th>\n",
       "      <th>Embarked_C</th>\n",
       "      <th>Embarked_Q</th>\n",
       "      <th>Embarked_S</th>\n",
       "    </tr>\n",
       "  </thead>\n",
       "  <tbody>\n",
       "    <tr>\n",
       "      <th>331</th>\n",
       "      <td>male</td>\n",
       "      <td>45.500000</td>\n",
       "      <td>0</td>\n",
       "      <td>0</td>\n",
       "      <td>28.5000</td>\n",
       "      <td>1.0</td>\n",
       "      <td>0.0</td>\n",
       "      <td>0.0</td>\n",
       "      <td>0.0</td>\n",
       "      <td>0.0</td>\n",
       "      <td>1.0</td>\n",
       "    </tr>\n",
       "    <tr>\n",
       "      <th>733</th>\n",
       "      <td>male</td>\n",
       "      <td>23.000000</td>\n",
       "      <td>0</td>\n",
       "      <td>0</td>\n",
       "      <td>13.0000</td>\n",
       "      <td>0.0</td>\n",
       "      <td>1.0</td>\n",
       "      <td>0.0</td>\n",
       "      <td>0.0</td>\n",
       "      <td>0.0</td>\n",
       "      <td>1.0</td>\n",
       "    </tr>\n",
       "    <tr>\n",
       "      <th>382</th>\n",
       "      <td>male</td>\n",
       "      <td>32.000000</td>\n",
       "      <td>0</td>\n",
       "      <td>0</td>\n",
       "      <td>7.9250</td>\n",
       "      <td>0.0</td>\n",
       "      <td>0.0</td>\n",
       "      <td>1.0</td>\n",
       "      <td>0.0</td>\n",
       "      <td>0.0</td>\n",
       "      <td>1.0</td>\n",
       "    </tr>\n",
       "    <tr>\n",
       "      <th>704</th>\n",
       "      <td>male</td>\n",
       "      <td>26.000000</td>\n",
       "      <td>1</td>\n",
       "      <td>0</td>\n",
       "      <td>7.8542</td>\n",
       "      <td>0.0</td>\n",
       "      <td>0.0</td>\n",
       "      <td>1.0</td>\n",
       "      <td>0.0</td>\n",
       "      <td>0.0</td>\n",
       "      <td>1.0</td>\n",
       "    </tr>\n",
       "    <tr>\n",
       "      <th>813</th>\n",
       "      <td>female</td>\n",
       "      <td>6.000000</td>\n",
       "      <td>4</td>\n",
       "      <td>2</td>\n",
       "      <td>31.2750</td>\n",
       "      <td>0.0</td>\n",
       "      <td>0.0</td>\n",
       "      <td>1.0</td>\n",
       "      <td>0.0</td>\n",
       "      <td>0.0</td>\n",
       "      <td>1.0</td>\n",
       "    </tr>\n",
       "    <tr>\n",
       "      <th>...</th>\n",
       "      <td>...</td>\n",
       "      <td>...</td>\n",
       "      <td>...</td>\n",
       "      <td>...</td>\n",
       "      <td>...</td>\n",
       "      <td>...</td>\n",
       "      <td>...</td>\n",
       "      <td>...</td>\n",
       "      <td>...</td>\n",
       "      <td>...</td>\n",
       "      <td>...</td>\n",
       "    </tr>\n",
       "    <tr>\n",
       "      <th>106</th>\n",
       "      <td>female</td>\n",
       "      <td>21.000000</td>\n",
       "      <td>0</td>\n",
       "      <td>0</td>\n",
       "      <td>7.6500</td>\n",
       "      <td>0.0</td>\n",
       "      <td>0.0</td>\n",
       "      <td>1.0</td>\n",
       "      <td>0.0</td>\n",
       "      <td>0.0</td>\n",
       "      <td>1.0</td>\n",
       "    </tr>\n",
       "    <tr>\n",
       "      <th>270</th>\n",
       "      <td>male</td>\n",
       "      <td>29.699118</td>\n",
       "      <td>0</td>\n",
       "      <td>0</td>\n",
       "      <td>31.0000</td>\n",
       "      <td>1.0</td>\n",
       "      <td>0.0</td>\n",
       "      <td>0.0</td>\n",
       "      <td>0.0</td>\n",
       "      <td>0.0</td>\n",
       "      <td>1.0</td>\n",
       "    </tr>\n",
       "    <tr>\n",
       "      <th>860</th>\n",
       "      <td>male</td>\n",
       "      <td>41.000000</td>\n",
       "      <td>2</td>\n",
       "      <td>0</td>\n",
       "      <td>14.1083</td>\n",
       "      <td>0.0</td>\n",
       "      <td>0.0</td>\n",
       "      <td>1.0</td>\n",
       "      <td>0.0</td>\n",
       "      <td>0.0</td>\n",
       "      <td>1.0</td>\n",
       "    </tr>\n",
       "    <tr>\n",
       "      <th>435</th>\n",
       "      <td>female</td>\n",
       "      <td>14.000000</td>\n",
       "      <td>1</td>\n",
       "      <td>2</td>\n",
       "      <td>120.0000</td>\n",
       "      <td>1.0</td>\n",
       "      <td>0.0</td>\n",
       "      <td>0.0</td>\n",
       "      <td>0.0</td>\n",
       "      <td>0.0</td>\n",
       "      <td>1.0</td>\n",
       "    </tr>\n",
       "    <tr>\n",
       "      <th>102</th>\n",
       "      <td>male</td>\n",
       "      <td>21.000000</td>\n",
       "      <td>0</td>\n",
       "      <td>1</td>\n",
       "      <td>77.2875</td>\n",
       "      <td>1.0</td>\n",
       "      <td>0.0</td>\n",
       "      <td>0.0</td>\n",
       "      <td>0.0</td>\n",
       "      <td>0.0</td>\n",
       "      <td>1.0</td>\n",
       "    </tr>\n",
       "  </tbody>\n",
       "</table>\n",
       "<p>712 rows × 11 columns</p>\n",
       "</div>"
      ],
      "text/plain": [
       "        Sex        Age  SibSp  Parch      Fare  Pclass_1  Pclass_2  Pclass_3  \\\n",
       "331    male  45.500000      0      0   28.5000       1.0       0.0       0.0   \n",
       "733    male  23.000000      0      0   13.0000       0.0       1.0       0.0   \n",
       "382    male  32.000000      0      0    7.9250       0.0       0.0       1.0   \n",
       "704    male  26.000000      1      0    7.8542       0.0       0.0       1.0   \n",
       "813  female   6.000000      4      2   31.2750       0.0       0.0       1.0   \n",
       "..      ...        ...    ...    ...       ...       ...       ...       ...   \n",
       "106  female  21.000000      0      0    7.6500       0.0       0.0       1.0   \n",
       "270    male  29.699118      0      0   31.0000       1.0       0.0       0.0   \n",
       "860    male  41.000000      2      0   14.1083       0.0       0.0       1.0   \n",
       "435  female  14.000000      1      2  120.0000       1.0       0.0       0.0   \n",
       "102    male  21.000000      0      1   77.2875       1.0       0.0       0.0   \n",
       "\n",
       "     Embarked_C  Embarked_Q  Embarked_S  \n",
       "331         0.0         0.0         1.0  \n",
       "733         0.0         0.0         1.0  \n",
       "382         0.0         0.0         1.0  \n",
       "704         0.0         0.0         1.0  \n",
       "813         0.0         0.0         1.0  \n",
       "..          ...         ...         ...  \n",
       "106         0.0         0.0         1.0  \n",
       "270         0.0         0.0         1.0  \n",
       "860         0.0         0.0         1.0  \n",
       "435         0.0         0.0         1.0  \n",
       "102         0.0         0.0         1.0  \n",
       "\n",
       "[712 rows x 11 columns]"
      ]
     },
     "execution_count": 23,
     "metadata": {},
     "output_type": "execute_result"
    }
   ],
   "source": [
    "X_train_new"
   ]
  },
  {
   "cell_type": "code",
   "execution_count": 24,
   "id": "6896bfa9",
   "metadata": {
    "execution": {
     "iopub.execute_input": "2024-06-10T18:26:29.004393Z",
     "iopub.status.busy": "2024-06-10T18:26:29.003993Z",
     "iopub.status.idle": "2024-06-10T18:26:29.030217Z",
     "shell.execute_reply": "2024-06-10T18:26:29.029118Z"
    },
    "papermill": {
     "duration": 0.05519,
     "end_time": "2024-06-10T18:26:29.032784",
     "exception": false,
     "start_time": "2024-06-10T18:26:28.977594",
     "status": "completed"
    },
    "tags": []
   },
   "outputs": [
    {
     "data": {
      "text/html": [
       "<div>\n",
       "<style scoped>\n",
       "    .dataframe tbody tr th:only-of-type {\n",
       "        vertical-align: middle;\n",
       "    }\n",
       "\n",
       "    .dataframe tbody tr th {\n",
       "        vertical-align: top;\n",
       "    }\n",
       "\n",
       "    .dataframe thead th {\n",
       "        text-align: right;\n",
       "    }\n",
       "</style>\n",
       "<table border=\"1\" class=\"dataframe\">\n",
       "  <thead>\n",
       "    <tr style=\"text-align: right;\">\n",
       "      <th></th>\n",
       "      <th>Sex</th>\n",
       "      <th>Age</th>\n",
       "      <th>SibSp</th>\n",
       "      <th>Parch</th>\n",
       "      <th>Fare</th>\n",
       "      <th>Pclass_1</th>\n",
       "      <th>Pclass_2</th>\n",
       "      <th>Pclass_3</th>\n",
       "      <th>Embarked_C</th>\n",
       "      <th>Embarked_Q</th>\n",
       "      <th>Embarked_S</th>\n",
       "    </tr>\n",
       "  </thead>\n",
       "  <tbody>\n",
       "    <tr>\n",
       "      <th>709</th>\n",
       "      <td>male</td>\n",
       "      <td>29.699118</td>\n",
       "      <td>1</td>\n",
       "      <td>1</td>\n",
       "      <td>15.2458</td>\n",
       "      <td>0.0</td>\n",
       "      <td>0.0</td>\n",
       "      <td>1.0</td>\n",
       "      <td>1.0</td>\n",
       "      <td>0.0</td>\n",
       "      <td>0.0</td>\n",
       "    </tr>\n",
       "    <tr>\n",
       "      <th>439</th>\n",
       "      <td>male</td>\n",
       "      <td>31.000000</td>\n",
       "      <td>0</td>\n",
       "      <td>0</td>\n",
       "      <td>10.5000</td>\n",
       "      <td>0.0</td>\n",
       "      <td>1.0</td>\n",
       "      <td>0.0</td>\n",
       "      <td>0.0</td>\n",
       "      <td>0.0</td>\n",
       "      <td>1.0</td>\n",
       "    </tr>\n",
       "    <tr>\n",
       "      <th>840</th>\n",
       "      <td>male</td>\n",
       "      <td>20.000000</td>\n",
       "      <td>0</td>\n",
       "      <td>0</td>\n",
       "      <td>7.9250</td>\n",
       "      <td>0.0</td>\n",
       "      <td>0.0</td>\n",
       "      <td>1.0</td>\n",
       "      <td>0.0</td>\n",
       "      <td>0.0</td>\n",
       "      <td>1.0</td>\n",
       "    </tr>\n",
       "    <tr>\n",
       "      <th>720</th>\n",
       "      <td>female</td>\n",
       "      <td>6.000000</td>\n",
       "      <td>0</td>\n",
       "      <td>1</td>\n",
       "      <td>33.0000</td>\n",
       "      <td>0.0</td>\n",
       "      <td>1.0</td>\n",
       "      <td>0.0</td>\n",
       "      <td>0.0</td>\n",
       "      <td>0.0</td>\n",
       "      <td>1.0</td>\n",
       "    </tr>\n",
       "    <tr>\n",
       "      <th>39</th>\n",
       "      <td>female</td>\n",
       "      <td>14.000000</td>\n",
       "      <td>1</td>\n",
       "      <td>0</td>\n",
       "      <td>11.2417</td>\n",
       "      <td>0.0</td>\n",
       "      <td>0.0</td>\n",
       "      <td>1.0</td>\n",
       "      <td>1.0</td>\n",
       "      <td>0.0</td>\n",
       "      <td>0.0</td>\n",
       "    </tr>\n",
       "    <tr>\n",
       "      <th>...</th>\n",
       "      <td>...</td>\n",
       "      <td>...</td>\n",
       "      <td>...</td>\n",
       "      <td>...</td>\n",
       "      <td>...</td>\n",
       "      <td>...</td>\n",
       "      <td>...</td>\n",
       "      <td>...</td>\n",
       "      <td>...</td>\n",
       "      <td>...</td>\n",
       "      <td>...</td>\n",
       "    </tr>\n",
       "    <tr>\n",
       "      <th>433</th>\n",
       "      <td>male</td>\n",
       "      <td>17.000000</td>\n",
       "      <td>0</td>\n",
       "      <td>0</td>\n",
       "      <td>7.1250</td>\n",
       "      <td>0.0</td>\n",
       "      <td>0.0</td>\n",
       "      <td>1.0</td>\n",
       "      <td>0.0</td>\n",
       "      <td>0.0</td>\n",
       "      <td>1.0</td>\n",
       "    </tr>\n",
       "    <tr>\n",
       "      <th>773</th>\n",
       "      <td>male</td>\n",
       "      <td>29.699118</td>\n",
       "      <td>0</td>\n",
       "      <td>0</td>\n",
       "      <td>7.2250</td>\n",
       "      <td>0.0</td>\n",
       "      <td>0.0</td>\n",
       "      <td>1.0</td>\n",
       "      <td>1.0</td>\n",
       "      <td>0.0</td>\n",
       "      <td>0.0</td>\n",
       "    </tr>\n",
       "    <tr>\n",
       "      <th>25</th>\n",
       "      <td>female</td>\n",
       "      <td>38.000000</td>\n",
       "      <td>1</td>\n",
       "      <td>5</td>\n",
       "      <td>31.3875</td>\n",
       "      <td>0.0</td>\n",
       "      <td>0.0</td>\n",
       "      <td>1.0</td>\n",
       "      <td>0.0</td>\n",
       "      <td>0.0</td>\n",
       "      <td>1.0</td>\n",
       "    </tr>\n",
       "    <tr>\n",
       "      <th>84</th>\n",
       "      <td>female</td>\n",
       "      <td>17.000000</td>\n",
       "      <td>0</td>\n",
       "      <td>0</td>\n",
       "      <td>10.5000</td>\n",
       "      <td>0.0</td>\n",
       "      <td>1.0</td>\n",
       "      <td>0.0</td>\n",
       "      <td>0.0</td>\n",
       "      <td>0.0</td>\n",
       "      <td>1.0</td>\n",
       "    </tr>\n",
       "    <tr>\n",
       "      <th>10</th>\n",
       "      <td>female</td>\n",
       "      <td>4.000000</td>\n",
       "      <td>1</td>\n",
       "      <td>1</td>\n",
       "      <td>16.7000</td>\n",
       "      <td>0.0</td>\n",
       "      <td>0.0</td>\n",
       "      <td>1.0</td>\n",
       "      <td>0.0</td>\n",
       "      <td>0.0</td>\n",
       "      <td>1.0</td>\n",
       "    </tr>\n",
       "  </tbody>\n",
       "</table>\n",
       "<p>179 rows × 11 columns</p>\n",
       "</div>"
      ],
      "text/plain": [
       "        Sex        Age  SibSp  Parch     Fare  Pclass_1  Pclass_2  Pclass_3  \\\n",
       "709    male  29.699118      1      1  15.2458       0.0       0.0       1.0   \n",
       "439    male  31.000000      0      0  10.5000       0.0       1.0       0.0   \n",
       "840    male  20.000000      0      0   7.9250       0.0       0.0       1.0   \n",
       "720  female   6.000000      0      1  33.0000       0.0       1.0       0.0   \n",
       "39   female  14.000000      1      0  11.2417       0.0       0.0       1.0   \n",
       "..      ...        ...    ...    ...      ...       ...       ...       ...   \n",
       "433    male  17.000000      0      0   7.1250       0.0       0.0       1.0   \n",
       "773    male  29.699118      0      0   7.2250       0.0       0.0       1.0   \n",
       "25   female  38.000000      1      5  31.3875       0.0       0.0       1.0   \n",
       "84   female  17.000000      0      0  10.5000       0.0       1.0       0.0   \n",
       "10   female   4.000000      1      1  16.7000       0.0       0.0       1.0   \n",
       "\n",
       "     Embarked_C  Embarked_Q  Embarked_S  \n",
       "709         1.0         0.0         0.0  \n",
       "439         0.0         0.0         1.0  \n",
       "840         0.0         0.0         1.0  \n",
       "720         0.0         0.0         1.0  \n",
       "39          1.0         0.0         0.0  \n",
       "..          ...         ...         ...  \n",
       "433         0.0         0.0         1.0  \n",
       "773         1.0         0.0         0.0  \n",
       "25          0.0         0.0         1.0  \n",
       "84          0.0         0.0         1.0  \n",
       "10          0.0         0.0         1.0  \n",
       "\n",
       "[179 rows x 11 columns]"
      ]
     },
     "execution_count": 24,
     "metadata": {},
     "output_type": "execute_result"
    }
   ],
   "source": [
    "X_val_new"
   ]
  },
  {
   "cell_type": "code",
   "execution_count": 25,
   "id": "00651930",
   "metadata": {
    "execution": {
     "iopub.execute_input": "2024-06-10T18:26:29.085704Z",
     "iopub.status.busy": "2024-06-10T18:26:29.085304Z",
     "iopub.status.idle": "2024-06-10T18:26:29.093302Z",
     "shell.execute_reply": "2024-06-10T18:26:29.092227Z"
    },
    "papermill": {
     "duration": 0.037327,
     "end_time": "2024-06-10T18:26:29.095615",
     "exception": false,
     "start_time": "2024-06-10T18:26:29.058288",
     "status": "completed"
    },
    "tags": []
   },
   "outputs": [],
   "source": [
    "# Convert 'Sex' column to 0 and 1\n",
    "sex_mapping = {'male': 0, 'female': 1}\n",
    "X_train_new['Sex'] = X_train_new['Sex'].map(sex_mapping)\n",
    "X_val_new['Sex'] = X_val_new['Sex'].map(sex_mapping)"
   ]
  },
  {
   "cell_type": "code",
   "execution_count": 26,
   "id": "ee01f3da",
   "metadata": {
    "execution": {
     "iopub.execute_input": "2024-06-10T18:26:29.150388Z",
     "iopub.status.busy": "2024-06-10T18:26:29.149980Z",
     "iopub.status.idle": "2024-06-10T18:26:29.155121Z",
     "shell.execute_reply": "2024-06-10T18:26:29.153995Z"
    },
    "papermill": {
     "duration": 0.035724,
     "end_time": "2024-06-10T18:26:29.157319",
     "exception": false,
     "start_time": "2024-06-10T18:26:29.121595",
     "status": "completed"
    },
    "tags": []
   },
   "outputs": [],
   "source": [
    "from sklearn.preprocessing import MinMaxScaler"
   ]
  },
  {
   "cell_type": "code",
   "execution_count": null,
   "id": "bc9eb1f6",
   "metadata": {
    "papermill": {
     "duration": 0.025169,
     "end_time": "2024-06-10T18:26:29.208296",
     "exception": false,
     "start_time": "2024-06-10T18:26:29.183127",
     "status": "completed"
    },
    "tags": []
   },
   "outputs": [],
   "source": []
  },
  {
   "cell_type": "code",
   "execution_count": 27,
   "id": "c6fed218",
   "metadata": {
    "execution": {
     "iopub.execute_input": "2024-06-10T18:26:29.261296Z",
     "iopub.status.busy": "2024-06-10T18:26:29.260850Z",
     "iopub.status.idle": "2024-06-10T18:26:29.276831Z",
     "shell.execute_reply": "2024-06-10T18:26:29.275888Z"
    },
    "papermill": {
     "duration": 0.045277,
     "end_time": "2024-06-10T18:26:29.279189",
     "exception": false,
     "start_time": "2024-06-10T18:26:29.233912",
     "status": "completed"
    },
    "tags": []
   },
   "outputs": [],
   "source": [
    "numeric_columns = ['Age','Fare']\n",
    "scaler = MinMaxScaler().fit(df[numeric_columns])\n",
    "X_train_new.loc[:, numeric_columns] = scaler.transform(X_train_new[numeric_columns])\n",
    "X_val_new.loc[:, numeric_columns] = scaler.transform(X_val_new[numeric_columns])"
   ]
  },
  {
   "cell_type": "code",
   "execution_count": 28,
   "id": "5e731f85",
   "metadata": {
    "execution": {
     "iopub.execute_input": "2024-06-10T18:26:29.332354Z",
     "iopub.status.busy": "2024-06-10T18:26:29.331949Z",
     "iopub.status.idle": "2024-06-10T18:26:29.337336Z",
     "shell.execute_reply": "2024-06-10T18:26:29.336227Z"
    },
    "papermill": {
     "duration": 0.034842,
     "end_time": "2024-06-10T18:26:29.339778",
     "exception": false,
     "start_time": "2024-06-10T18:26:29.304936",
     "status": "completed"
    },
    "tags": []
   },
   "outputs": [],
   "source": [
    "from sklearn.linear_model import LogisticRegression\n",
    "from sklearn.metrics import accuracy_score\n",
    "from sklearn.metrics import confusion_matrix"
   ]
  },
  {
   "cell_type": "code",
   "execution_count": 29,
   "id": "ba5a1c99",
   "metadata": {
    "execution": {
     "iopub.execute_input": "2024-06-10T18:26:29.392534Z",
     "iopub.status.busy": "2024-06-10T18:26:29.392136Z",
     "iopub.status.idle": "2024-06-10T18:26:29.404354Z",
     "shell.execute_reply": "2024-06-10T18:26:29.403351Z"
    },
    "papermill": {
     "duration": 0.041299,
     "end_time": "2024-06-10T18:26:29.406637",
     "exception": false,
     "start_time": "2024-06-10T18:26:29.365338",
     "status": "completed"
    },
    "tags": []
   },
   "outputs": [],
   "source": [
    "model = LogisticRegression(solver='liblinear').fit(X_train_new, y_df)"
   ]
  },
  {
   "cell_type": "code",
   "execution_count": 30,
   "id": "71fce079",
   "metadata": {
    "execution": {
     "iopub.execute_input": "2024-06-10T18:26:29.459833Z",
     "iopub.status.busy": "2024-06-10T18:26:29.458896Z",
     "iopub.status.idle": "2024-06-10T18:26:29.470039Z",
     "shell.execute_reply": "2024-06-10T18:26:29.468988Z"
    },
    "papermill": {
     "duration": 0.040022,
     "end_time": "2024-06-10T18:26:29.472297",
     "exception": false,
     "start_time": "2024-06-10T18:26:29.432275",
     "status": "completed"
    },
    "tags": []
   },
   "outputs": [
    {
     "data": {
      "text/plain": [
       "0.8061797752808989"
      ]
     },
     "execution_count": 30,
     "metadata": {},
     "output_type": "execute_result"
    }
   ],
   "source": [
    "model.score(X_train_new, y_df)"
   ]
  },
  {
   "cell_type": "code",
   "execution_count": 31,
   "id": "b2162ab1",
   "metadata": {
    "execution": {
     "iopub.execute_input": "2024-06-10T18:26:29.525628Z",
     "iopub.status.busy": "2024-06-10T18:26:29.524703Z",
     "iopub.status.idle": "2024-06-10T18:26:29.535547Z",
     "shell.execute_reply": "2024-06-10T18:26:29.534449Z"
    },
    "papermill": {
     "duration": 0.040246,
     "end_time": "2024-06-10T18:26:29.538166",
     "exception": false,
     "start_time": "2024-06-10T18:26:29.497920",
     "status": "completed"
    },
    "tags": []
   },
   "outputs": [
    {
     "data": {
      "text/plain": [
       "0.8044692737430168"
      ]
     },
     "execution_count": 31,
     "metadata": {},
     "output_type": "execute_result"
    }
   ],
   "source": [
    "model.score(X_val_new, y_val)"
   ]
  },
  {
   "cell_type": "code",
   "execution_count": 32,
   "id": "f8ad102f",
   "metadata": {
    "execution": {
     "iopub.execute_input": "2024-06-10T18:26:29.592009Z",
     "iopub.status.busy": "2024-06-10T18:26:29.591558Z",
     "iopub.status.idle": "2024-06-10T18:26:29.599149Z",
     "shell.execute_reply": "2024-06-10T18:26:29.597915Z"
    },
    "papermill": {
     "duration": 0.037435,
     "end_time": "2024-06-10T18:26:29.601734",
     "exception": false,
     "start_time": "2024-06-10T18:26:29.564299",
     "status": "completed"
    },
    "tags": []
   },
   "outputs": [],
   "source": [
    "# Helper function to predict, compute accuracy & plot confustion matrix\n",
    "def predict_and_plot(inputs, targets, name=''):\n",
    "    preds = model.predict(inputs)\n",
    "    accuracy = accuracy_score(targets, preds)\n",
    "    print(\"Accuracy: {:.2f}%\".format(accuracy * 100))\n",
    "    cf = confusion_matrix(targets, preds, normalize='true')\n",
    "    plt.figure()\n",
    "    sns.heatmap(cf, annot=True)\n",
    "    plt.xlabel('Prediction')\n",
    "    plt.ylabel('Target')\n",
    "    plt.title('{} Confusion Matrix'.format(name));    \n",
    "    return preds"
   ]
  },
  {
   "cell_type": "code",
   "execution_count": 33,
   "id": "160a52c9",
   "metadata": {
    "execution": {
     "iopub.execute_input": "2024-06-10T18:26:29.656238Z",
     "iopub.status.busy": "2024-06-10T18:26:29.655497Z",
     "iopub.status.idle": "2024-06-10T18:26:30.456162Z",
     "shell.execute_reply": "2024-06-10T18:26:30.455073Z"
    },
    "papermill": {
     "duration": 0.830673,
     "end_time": "2024-06-10T18:26:30.458551",
     "exception": false,
     "start_time": "2024-06-10T18:26:29.627878",
     "status": "completed"
    },
    "tags": []
   },
   "outputs": [
    {
     "name": "stdout",
     "output_type": "stream",
     "text": [
      "Accuracy: 80.45%\n",
      "Accuracy: 80.62%\n"
     ]
    },
    {
     "data": {
      "image/png": "[encoded data removed]",
      "text/plain": [
       "<Figure size 640x480 with 2 Axes>"
      ]
     },
     "metadata": {},
     "output_type": "display_data"
    },
    {
     "data": {
      "image/png": "[encoded data removed]",
      "text/plain": [
       "<Figure size 640x480 with 2 Axes>"
      ]
     },
     "metadata": {},
     "output_type": "display_data"
    }
   ],
   "source": [
    "# Evaluate on validation and test set\n",
    "val_preds = predict_and_plot(X_val_new, y_val, 'Validation')\n",
    "train_preds = predict_and_plot(X_train_new, y_df, 'Train')"
   ]
  },
  {
   "cell_type": "code",
   "execution_count": 34,
   "id": "fdf7fb3c",
   "metadata": {
    "execution": {
     "iopub.execute_input": "2024-06-10T18:26:30.514644Z",
     "iopub.status.busy": "2024-06-10T18:26:30.513658Z",
     "iopub.status.idle": "2024-06-10T18:26:30.555178Z",
     "shell.execute_reply": "2024-06-10T18:26:30.553945Z"
    },
    "papermill": {
     "duration": 0.072391,
     "end_time": "2024-06-10T18:26:30.557831",
     "exception": false,
     "start_time": "2024-06-10T18:26:30.485440",
     "status": "completed"
    },
    "tags": []
   },
   "outputs": [],
   "source": [
    "from sklearn.tree import DecisionTreeClassifier"
   ]
  },
  {
   "cell_type": "code",
   "execution_count": 35,
   "id": "7efc427e",
   "metadata": {
    "execution": {
     "iopub.execute_input": "2024-06-10T18:26:30.614015Z",
     "iopub.status.busy": "2024-06-10T18:26:30.613013Z",
     "iopub.status.idle": "2024-06-10T18:26:30.625325Z",
     "shell.execute_reply": "2024-06-10T18:26:30.624245Z"
    },
    "papermill": {
     "duration": 0.043058,
     "end_time": "2024-06-10T18:26:30.627909",
     "exception": false,
     "start_time": "2024-06-10T18:26:30.584851",
     "status": "completed"
    },
    "tags": []
   },
   "outputs": [],
   "source": [
    "model = DecisionTreeClassifier(random_state = 42).fit(X_train_new ,y_df)"
   ]
  },
  {
   "cell_type": "code",
   "execution_count": 36,
   "id": "000538f7",
   "metadata": {
    "execution": {
     "iopub.execute_input": "2024-06-10T18:26:30.686021Z",
     "iopub.status.busy": "2024-06-10T18:26:30.685182Z",
     "iopub.status.idle": "2024-06-10T18:26:30.700034Z",
     "shell.execute_reply": "2024-06-10T18:26:30.698929Z"
    },
    "papermill": {
     "duration": 0.047762,
     "end_time": "2024-06-10T18:26:30.702561",
     "exception": false,
     "start_time": "2024-06-10T18:26:30.654799",
     "status": "completed"
    },
    "tags": []
   },
   "outputs": [
    {
     "data": {
      "text/plain": [
       "(0.9803370786516854, 0.770949720670391)"
      ]
     },
     "execution_count": 36,
     "metadata": {},
     "output_type": "execute_result"
    }
   ],
   "source": [
    "model.score(X_train_new ,y_df), model.score(X_val_new ,y_val)"
   ]
  },
  {
   "cell_type": "code",
   "execution_count": 37,
   "id": "6a147cb9",
   "metadata": {
    "execution": {
     "iopub.execute_input": "2024-06-10T18:26:30.758837Z",
     "iopub.status.busy": "2024-06-10T18:26:30.758437Z",
     "iopub.status.idle": "2024-06-10T18:26:30.763279Z",
     "shell.execute_reply": "2024-06-10T18:26:30.762239Z"
    },
    "papermill": {
     "duration": 0.035207,
     "end_time": "2024-06-10T18:26:30.765620",
     "exception": false,
     "start_time": "2024-06-10T18:26:30.730413",
     "status": "completed"
    },
    "tags": []
   },
   "outputs": [],
   "source": [
    "from sklearn.tree import plot_tree, export_text"
   ]
  },
  {
   "cell_type": "code",
   "execution_count": 38,
   "id": "684d3344",
   "metadata": {
    "execution": {
     "iopub.execute_input": "2024-06-10T18:26:30.821344Z",
     "iopub.status.busy": "2024-06-10T18:26:30.820937Z",
     "iopub.status.idle": "2024-06-10T18:26:30.827645Z",
     "shell.execute_reply": "2024-06-10T18:26:30.826598Z"
    },
    "papermill": {
     "duration": 0.03739,
     "end_time": "2024-06-10T18:26:30.830280",
     "exception": false,
     "start_time": "2024-06-10T18:26:30.792890",
     "status": "completed"
    },
    "tags": []
   },
   "outputs": [
    {
     "data": {
      "text/plain": [
       "21"
      ]
     },
     "execution_count": 38,
     "metadata": {},
     "output_type": "execute_result"
    }
   ],
   "source": [
    "model.tree_.max_depth"
   ]
  },
  {
   "cell_type": "code",
   "execution_count": 39,
   "id": "48b276d3",
   "metadata": {
    "execution": {
     "iopub.execute_input": "2024-06-10T18:26:30.888087Z",
     "iopub.status.busy": "2024-06-10T18:26:30.887171Z",
     "iopub.status.idle": "2024-06-10T18:26:30.893832Z",
     "shell.execute_reply": "2024-06-10T18:26:30.892790Z"
    },
    "papermill": {
     "duration": 0.037735,
     "end_time": "2024-06-10T18:26:30.896094",
     "exception": false,
     "start_time": "2024-06-10T18:26:30.858359",
     "status": "completed"
    },
    "tags": []
   },
   "outputs": [],
   "source": [
    "importance_df = pd.DataFrame({\n",
    "    'feature': list(X_train_new.columns),\n",
    "    'importance': model.feature_importances_\n",
    "}).sort_values('importance', ascending = False)"
   ]
  },
  {
   "cell_type": "code",
   "execution_count": 40,
   "id": "5ad2e1ca",
   "metadata": {
    "execution": {
     "iopub.execute_input": "2024-06-10T18:26:30.951712Z",
     "iopub.status.busy": "2024-06-10T18:26:30.951066Z",
     "iopub.status.idle": "2024-06-10T18:26:30.962709Z",
     "shell.execute_reply": "2024-06-10T18:26:30.961711Z"
    },
    "papermill": {
     "duration": 0.041913,
     "end_time": "2024-06-10T18:26:30.964922",
     "exception": false,
     "start_time": "2024-06-10T18:26:30.923009",
     "status": "completed"
    },
    "tags": []
   },
   "outputs": [
    {
     "data": {
      "text/html": [
       "<div>\n",
       "<style scoped>\n",
       "    .dataframe tbody tr th:only-of-type {\n",
       "        vertical-align: middle;\n",
       "    }\n",
       "\n",
       "    .dataframe tbody tr th {\n",
       "        vertical-align: top;\n",
       "    }\n",
       "\n",
       "    .dataframe thead th {\n",
       "        text-align: right;\n",
       "    }\n",
       "</style>\n",
       "<table border=\"1\" class=\"dataframe\">\n",
       "  <thead>\n",
       "    <tr style=\"text-align: right;\">\n",
       "      <th></th>\n",
       "      <th>feature</th>\n",
       "      <th>importance</th>\n",
       "    </tr>\n",
       "  </thead>\n",
       "  <tbody>\n",
       "    <tr>\n",
       "      <th>0</th>\n",
       "      <td>Sex</td>\n",
       "      <td>0.308977</td>\n",
       "    </tr>\n",
       "    <tr>\n",
       "      <th>1</th>\n",
       "      <td>Age</td>\n",
       "      <td>0.234722</td>\n",
       "    </tr>\n",
       "    <tr>\n",
       "      <th>4</th>\n",
       "      <td>Fare</td>\n",
       "      <td>0.224381</td>\n",
       "    </tr>\n",
       "    <tr>\n",
       "      <th>7</th>\n",
       "      <td>Pclass_3</td>\n",
       "      <td>0.086574</td>\n",
       "    </tr>\n",
       "    <tr>\n",
       "      <th>2</th>\n",
       "      <td>SibSp</td>\n",
       "      <td>0.051675</td>\n",
       "    </tr>\n",
       "    <tr>\n",
       "      <th>3</th>\n",
       "      <td>Parch</td>\n",
       "      <td>0.037315</td>\n",
       "    </tr>\n",
       "    <tr>\n",
       "      <th>5</th>\n",
       "      <td>Pclass_1</td>\n",
       "      <td>0.020307</td>\n",
       "    </tr>\n",
       "    <tr>\n",
       "      <th>10</th>\n",
       "      <td>Embarked_S</td>\n",
       "      <td>0.012134</td>\n",
       "    </tr>\n",
       "    <tr>\n",
       "      <th>6</th>\n",
       "      <td>Pclass_2</td>\n",
       "      <td>0.011654</td>\n",
       "    </tr>\n",
       "    <tr>\n",
       "      <th>8</th>\n",
       "      <td>Embarked_C</td>\n",
       "      <td>0.011421</td>\n",
       "    </tr>\n",
       "    <tr>\n",
       "      <th>9</th>\n",
       "      <td>Embarked_Q</td>\n",
       "      <td>0.000840</td>\n",
       "    </tr>\n",
       "  </tbody>\n",
       "</table>\n",
       "</div>"
      ],
      "text/plain": [
       "       feature  importance\n",
       "0          Sex    0.308977\n",
       "1          Age    0.234722\n",
       "4         Fare    0.224381\n",
       "7     Pclass_3    0.086574\n",
       "2        SibSp    0.051675\n",
       "3        Parch    0.037315\n",
       "5     Pclass_1    0.020307\n",
       "10  Embarked_S    0.012134\n",
       "6     Pclass_2    0.011654\n",
       "8   Embarked_C    0.011421\n",
       "9   Embarked_Q    0.000840"
      ]
     },
     "execution_count": 40,
     "metadata": {},
     "output_type": "execute_result"
    }
   ],
   "source": [
    "importance_df"
   ]
  },
  {
   "cell_type": "code",
   "execution_count": 41,
   "id": "47a97150",
   "metadata": {
    "execution": {
     "iopub.execute_input": "2024-06-10T18:26:31.020599Z",
     "iopub.status.busy": "2024-06-10T18:26:31.020205Z",
     "iopub.status.idle": "2024-06-10T18:26:31.026471Z",
     "shell.execute_reply": "2024-06-10T18:26:31.025367Z"
    },
    "papermill": {
     "duration": 0.036879,
     "end_time": "2024-06-10T18:26:31.028926",
     "exception": false,
     "start_time": "2024-06-10T18:26:30.992047",
     "status": "completed"
    },
    "tags": []
   },
   "outputs": [],
   "source": [
    "def max_depth_error(md):\n",
    "    model = DecisionTreeClassifier(max_depth = md, random_state = 42)\n",
    "    model.fit(X_train_new, y_df)\n",
    "    train_acc = model.score(X_train_new, y_df)\n",
    "    val_acc = model.score(X_val_new,y_val)\n",
    "    return {'Max Depth': md , 'Training Accuracy': train_acc, 'Validation Accuracy' : val_acc}"
   ]
  },
  {
   "cell_type": "code",
   "execution_count": 42,
   "id": "9994fbc7",
   "metadata": {
    "execution": {
     "iopub.execute_input": "2024-06-10T18:26:31.086195Z",
     "iopub.status.busy": "2024-06-10T18:26:31.085220Z",
     "iopub.status.idle": "2024-06-10T18:26:31.278447Z",
     "shell.execute_reply": "2024-06-10T18:26:31.277288Z"
    },
    "papermill": {
     "duration": 0.224839,
     "end_time": "2024-06-10T18:26:31.281323",
     "exception": false,
     "start_time": "2024-06-10T18:26:31.056484",
     "status": "completed"
    },
    "tags": []
   },
   "outputs": [],
   "source": [
    "Accuracy_df = pd.DataFrame([max_depth_error(md) for md in range(1,22)])"
   ]
  },
  {
   "cell_type": "code",
   "execution_count": 43,
   "id": "38764eb8",
   "metadata": {
    "execution": {
     "iopub.execute_input": "2024-06-10T18:26:31.340015Z",
     "iopub.status.busy": "2024-06-10T18:26:31.338883Z",
     "iopub.status.idle": "2024-06-10T18:26:31.352817Z",
     "shell.execute_reply": "2024-06-10T18:26:31.351813Z"
    },
    "papermill": {
     "duration": 0.046645,
     "end_time": "2024-06-10T18:26:31.355296",
     "exception": false,
     "start_time": "2024-06-10T18:26:31.308651",
     "status": "completed"
    },
    "tags": []
   },
   "outputs": [
    {
     "data": {
      "text/html": [
       "<div>\n",
       "<style scoped>\n",
       "    .dataframe tbody tr th:only-of-type {\n",
       "        vertical-align: middle;\n",
       "    }\n",
       "\n",
       "    .dataframe tbody tr th {\n",
       "        vertical-align: top;\n",
       "    }\n",
       "\n",
       "    .dataframe thead th {\n",
       "        text-align: right;\n",
       "    }\n",
       "</style>\n",
       "<table border=\"1\" class=\"dataframe\">\n",
       "  <thead>\n",
       "    <tr style=\"text-align: right;\">\n",
       "      <th></th>\n",
       "      <th>Max Depth</th>\n",
       "      <th>Training Accuracy</th>\n",
       "      <th>Validation Accuracy</th>\n",
       "    </tr>\n",
       "  </thead>\n",
       "  <tbody>\n",
       "    <tr>\n",
       "      <th>0</th>\n",
       "      <td>1</td>\n",
       "      <td>0.787921</td>\n",
       "      <td>0.782123</td>\n",
       "    </tr>\n",
       "    <tr>\n",
       "      <th>1</th>\n",
       "      <td>2</td>\n",
       "      <td>0.803371</td>\n",
       "      <td>0.765363</td>\n",
       "    </tr>\n",
       "    <tr>\n",
       "      <th>2</th>\n",
       "      <td>3</td>\n",
       "      <td>0.834270</td>\n",
       "      <td>0.798883</td>\n",
       "    </tr>\n",
       "    <tr>\n",
       "      <th>3</th>\n",
       "      <td>4</td>\n",
       "      <td>0.839888</td>\n",
       "      <td>0.798883</td>\n",
       "    </tr>\n",
       "    <tr>\n",
       "      <th>4</th>\n",
       "      <td>5</td>\n",
       "      <td>0.851124</td>\n",
       "      <td>0.798883</td>\n",
       "    </tr>\n",
       "    <tr>\n",
       "      <th>5</th>\n",
       "      <td>6</td>\n",
       "      <td>0.866573</td>\n",
       "      <td>0.798883</td>\n",
       "    </tr>\n",
       "    <tr>\n",
       "      <th>6</th>\n",
       "      <td>7</td>\n",
       "      <td>0.882022</td>\n",
       "      <td>0.804469</td>\n",
       "    </tr>\n",
       "    <tr>\n",
       "      <th>7</th>\n",
       "      <td>8</td>\n",
       "      <td>0.894663</td>\n",
       "      <td>0.793296</td>\n",
       "    </tr>\n",
       "    <tr>\n",
       "      <th>8</th>\n",
       "      <td>9</td>\n",
       "      <td>0.907303</td>\n",
       "      <td>0.810056</td>\n",
       "    </tr>\n",
       "    <tr>\n",
       "      <th>9</th>\n",
       "      <td>10</td>\n",
       "      <td>0.915730</td>\n",
       "      <td>0.798883</td>\n",
       "    </tr>\n",
       "    <tr>\n",
       "      <th>10</th>\n",
       "      <td>11</td>\n",
       "      <td>0.926966</td>\n",
       "      <td>0.793296</td>\n",
       "    </tr>\n",
       "    <tr>\n",
       "      <th>11</th>\n",
       "      <td>12</td>\n",
       "      <td>0.931180</td>\n",
       "      <td>0.798883</td>\n",
       "    </tr>\n",
       "    <tr>\n",
       "      <th>12</th>\n",
       "      <td>13</td>\n",
       "      <td>0.939607</td>\n",
       "      <td>0.787709</td>\n",
       "    </tr>\n",
       "    <tr>\n",
       "      <th>13</th>\n",
       "      <td>14</td>\n",
       "      <td>0.946629</td>\n",
       "      <td>0.770950</td>\n",
       "    </tr>\n",
       "    <tr>\n",
       "      <th>14</th>\n",
       "      <td>15</td>\n",
       "      <td>0.957865</td>\n",
       "      <td>0.754190</td>\n",
       "    </tr>\n",
       "    <tr>\n",
       "      <th>15</th>\n",
       "      <td>16</td>\n",
       "      <td>0.962079</td>\n",
       "      <td>0.782123</td>\n",
       "    </tr>\n",
       "    <tr>\n",
       "      <th>16</th>\n",
       "      <td>17</td>\n",
       "      <td>0.970506</td>\n",
       "      <td>0.776536</td>\n",
       "    </tr>\n",
       "    <tr>\n",
       "      <th>17</th>\n",
       "      <td>18</td>\n",
       "      <td>0.973315</td>\n",
       "      <td>0.770950</td>\n",
       "    </tr>\n",
       "    <tr>\n",
       "      <th>18</th>\n",
       "      <td>19</td>\n",
       "      <td>0.976124</td>\n",
       "      <td>0.765363</td>\n",
       "    </tr>\n",
       "    <tr>\n",
       "      <th>19</th>\n",
       "      <td>20</td>\n",
       "      <td>0.977528</td>\n",
       "      <td>0.776536</td>\n",
       "    </tr>\n",
       "    <tr>\n",
       "      <th>20</th>\n",
       "      <td>21</td>\n",
       "      <td>0.980337</td>\n",
       "      <td>0.770950</td>\n",
       "    </tr>\n",
       "  </tbody>\n",
       "</table>\n",
       "</div>"
      ],
      "text/plain": [
       "    Max Depth  Training Accuracy  Validation Accuracy\n",
       "0           1           0.787921             0.782123\n",
       "1           2           0.803371             0.765363\n",
       "2           3           0.834270             0.798883\n",
       "3           4           0.839888             0.798883\n",
       "4           5           0.851124             0.798883\n",
       "5           6           0.866573             0.798883\n",
       "6           7           0.882022             0.804469\n",
       "7           8           0.894663             0.793296\n",
       "8           9           0.907303             0.810056\n",
       "9          10           0.915730             0.798883\n",
       "10         11           0.926966             0.793296\n",
       "11         12           0.931180             0.798883\n",
       "12         13           0.939607             0.787709\n",
       "13         14           0.946629             0.770950\n",
       "14         15           0.957865             0.754190\n",
       "15         16           0.962079             0.782123\n",
       "16         17           0.970506             0.776536\n",
       "17         18           0.973315             0.770950\n",
       "18         19           0.976124             0.765363\n",
       "19         20           0.977528             0.776536\n",
       "20         21           0.980337             0.770950"
      ]
     },
     "execution_count": 43,
     "metadata": {},
     "output_type": "execute_result"
    }
   ],
   "source": [
    "Accuracy_df "
   ]
  },
  {
   "cell_type": "code",
   "execution_count": 44,
   "id": "904b3558",
   "metadata": {
    "execution": {
     "iopub.execute_input": "2024-06-10T18:26:31.412905Z",
     "iopub.status.busy": "2024-06-10T18:26:31.411726Z",
     "iopub.status.idle": "2024-06-10T18:26:31.835783Z",
     "shell.execute_reply": "2024-06-10T18:26:31.834737Z"
    },
    "papermill": {
     "duration": 0.455995,
     "end_time": "2024-06-10T18:26:31.838846",
     "exception": false,
     "start_time": "2024-06-10T18:26:31.382851",
     "status": "completed"
    },
    "tags": []
   },
   "outputs": [
    {
     "data": {
      "image/png": "[encoded data removed]",
      "text/plain": [
       "<Figure size 640x480 with 1 Axes>"
      ]
     },
     "metadata": {},
     "output_type": "display_data"
    }
   ],
   "source": [
    "plt.figure()\n",
    "plt.plot(Accuracy_df['Max Depth'], Accuracy_df['Training Accuracy'])\n",
    "plt.plot(Accuracy_df['Max Depth'], Accuracy_df['Validation Accuracy'])\n",
    "plt.title('Training vs. Validation Accuracy')\n",
    "plt.xticks(range(1,21,2))\n",
    "plt.xlabel('Max Depth')\n",
    "plt.ylabel('Prediction Accuracy')\n",
    "plt.legend([\"Training\",\"Validation\"]);"
   ]
  },
  {
   "cell_type": "code",
   "execution_count": 45,
   "id": "6b326427",
   "metadata": {
    "execution": {
     "iopub.execute_input": "2024-06-10T18:26:31.898664Z",
     "iopub.status.busy": "2024-06-10T18:26:31.898254Z",
     "iopub.status.idle": "2024-06-10T18:26:31.933873Z",
     "shell.execute_reply": "2024-06-10T18:26:31.932684Z"
    },
    "papermill": {
     "duration": 0.068679,
     "end_time": "2024-06-10T18:26:31.936287",
     "exception": false,
     "start_time": "2024-06-10T18:26:31.867608",
     "status": "completed"
    },
    "tags": []
   },
   "outputs": [
    {
     "data": {
      "text/plain": [
       "({'Max Depth': 3,\n",
       "  'Training Accuracy': 0.8342696629213483,\n",
       "  'Validation Accuracy': 0.7988826815642458},\n",
       " {'Max Depth': 5,\n",
       "  'Training Accuracy': 0.851123595505618,\n",
       "  'Validation Accuracy': 0.7988826815642458},\n",
       " {'Max Depth': 9,\n",
       "  'Training Accuracy': 0.9073033707865169,\n",
       "  'Validation Accuracy': 0.8100558659217877})"
      ]
     },
     "execution_count": 45,
     "metadata": {},
     "output_type": "execute_result"
    }
   ],
   "source": [
    " max_depth_error(3),  max_depth_error(5),  max_depth_error(9)"
   ]
  },
  {
   "cell_type": "code",
   "execution_count": 46,
   "id": "2cb66535",
   "metadata": {
    "execution": {
     "iopub.execute_input": "2024-06-10T18:26:31.995752Z",
     "iopub.status.busy": "2024-06-10T18:26:31.994924Z",
     "iopub.status.idle": "2024-06-10T18:26:34.411106Z",
     "shell.execute_reply": "2024-06-10T18:26:34.409921Z"
    },
    "papermill": {
     "duration": 2.449015,
     "end_time": "2024-06-10T18:26:34.413965",
     "exception": false,
     "start_time": "2024-06-10T18:26:31.964950",
     "status": "completed"
    },
    "tags": []
   },
   "outputs": [],
   "source": [
    "# Initialize lists to store training and validation errors\n",
    "train_errors = []\n",
    "val_errors = []\n",
    "\n",
    "# Define a range for max_leaf_nodes to test\n",
    "max_leaf_nodes_range = range(2, 200)\n",
    "\n",
    "# Loop through different values of max_leaf_nodes\n",
    "for max_leaf_nodes in max_leaf_nodes_range:\n",
    "    # Train the model with the current max_leaf_nodes value\n",
    "    model = DecisionTreeClassifier(max_leaf_nodes=max_leaf_nodes, random_state=42)\n",
    "    model.fit(X_train_new, y_df)\n",
    "    \n",
    "    # Predict on training set and validation set\n",
    "    y_train_pred = model.predict(X_train_new)\n",
    "    y_val_pred = model.predict(X_val_new)\n",
    "    \n",
    "    # Calculate the mean squared error for training and validation sets\n",
    "    train_error = 1- model.score(X_train_new, y_df)\n",
    "    val_error = 1- model.score(X_val_new,y_val)\n",
    "    \n",
    "    # Append the errors to the lists\n",
    "    train_errors.append(train_error)\n",
    "    val_errors.append(val_error)"
   ]
  },
  {
   "cell_type": "code",
   "execution_count": 47,
   "id": "ecd83a38",
   "metadata": {
    "execution": {
     "iopub.execute_input": "2024-06-10T18:26:34.475605Z",
     "iopub.status.busy": "2024-06-10T18:26:34.475195Z",
     "iopub.status.idle": "2024-06-10T18:26:34.927830Z",
     "shell.execute_reply": "2024-06-10T18:26:34.926818Z"
    },
    "papermill": {
     "duration": 0.48713,
     "end_time": "2024-06-10T18:26:34.930546",
     "exception": false,
     "start_time": "2024-06-10T18:26:34.443416",
     "status": "completed"
    },
    "tags": []
   },
   "outputs": [
    {
     "data": {
      "image/png": "[encoded data removed]",
      "text/plain": [
       "<Figure size 1200x600 with 1 Axes>"
      ]
     },
     "metadata": {},
     "output_type": "display_data"
    }
   ],
   "source": [
    "plt.figure(figsize=(12, 6))\n",
    "plt.plot(max_leaf_nodes_range, train_errors, label='Training Error', color='blue')\n",
    "plt.plot(max_leaf_nodes_range, val_errors, label='Validation Error', color='red')\n",
    "plt.xlabel('Max Leaf Nodes')\n",
    "plt.ylabel('Error')\n",
    "plt.title('Training and Validation Error vs. Max Leaf Nodes')\n",
    "plt.legend()\n",
    "plt.show()"
   ]
  },
  {
   "cell_type": "code",
   "execution_count": 48,
   "id": "87b036c8",
   "metadata": {
    "execution": {
     "iopub.execute_input": "2024-06-10T18:26:34.991417Z",
     "iopub.status.busy": "2024-06-10T18:26:34.991022Z",
     "iopub.status.idle": "2024-06-10T18:26:35.009215Z",
     "shell.execute_reply": "2024-06-10T18:26:35.008117Z"
    },
    "papermill": {
     "duration": 0.051361,
     "end_time": "2024-06-10T18:26:35.011545",
     "exception": false,
     "start_time": "2024-06-10T18:26:34.960184",
     "status": "completed"
    },
    "tags": []
   },
   "outputs": [
    {
     "data": {
      "text/plain": [
       "(0.8764044943820225, 0.8212290502793296)"
      ]
     },
     "execution_count": 48,
     "metadata": {},
     "output_type": "execute_result"
    }
   ],
   "source": [
    "model = DecisionTreeClassifier(max_leaf_nodes=22, random_state=42).fit(X_train_new, y_df)\n",
    "model.score(X_train_new, y_df), model.score(X_val_new, y_val)"
   ]
  },
  {
   "cell_type": "code",
   "execution_count": 49,
   "id": "f05320d4",
   "metadata": {
    "execution": {
     "iopub.execute_input": "2024-06-10T18:26:35.072702Z",
     "iopub.status.busy": "2024-06-10T18:26:35.071957Z",
     "iopub.status.idle": "2024-06-10T18:26:35.076955Z",
     "shell.execute_reply": "2024-06-10T18:26:35.075827Z"
    },
    "papermill": {
     "duration": 0.038057,
     "end_time": "2024-06-10T18:26:35.079227",
     "exception": false,
     "start_time": "2024-06-10T18:26:35.041170",
     "status": "completed"
    },
    "tags": []
   },
   "outputs": [],
   "source": [
    "#from sklearn.ensemble import RandomForestClassifier"
   ]
  },
  {
   "cell_type": "code",
   "execution_count": 50,
   "id": "1e918a83",
   "metadata": {
    "execution": {
     "iopub.execute_input": "2024-06-10T18:26:35.140727Z",
     "iopub.status.busy": "2024-06-10T18:26:35.139768Z",
     "iopub.status.idle": "2024-06-10T18:26:35.144690Z",
     "shell.execute_reply": "2024-06-10T18:26:35.143551Z"
    },
    "papermill": {
     "duration": 0.038169,
     "end_time": "2024-06-10T18:26:35.147146",
     "exception": false,
     "start_time": "2024-06-10T18:26:35.108977",
     "status": "completed"
    },
    "tags": []
   },
   "outputs": [],
   "source": [
    "#model = RandomForestClassifier(n_jobs = -1, random_state = 42).fit(X_train_new, y_df)\n",
    "#model.score(X_train_new, y_df), model.score(X_val_new, y_val)"
   ]
  },
  {
   "cell_type": "markdown",
   "id": "350b114e",
   "metadata": {
    "papermill": {
     "duration": 0.029035,
     "end_time": "2024-06-10T18:26:35.205632",
     "exception": false,
     "start_time": "2024-06-10T18:26:35.176597",
     "status": "completed"
    },
    "tags": []
   },
   "source": [
    "importance_df = pd.DataFrame({\n",
    "    'feature' : X_train_new.columns,\n",
    "    'importance' : model.feature_importances_\n",
    "}).sort_values('importance',ascending = False)"
   ]
  },
  {
   "cell_type": "markdown",
   "id": "5301bb16",
   "metadata": {
    "papermill": {
     "duration": 0.029114,
     "end_time": "2024-06-10T18:26:35.264200",
     "exception": false,
     "start_time": "2024-06-10T18:26:35.235086",
     "status": "completed"
    },
    "tags": []
   },
   "source": []
  },
  {
   "cell_type": "markdown",
   "id": "c0cc2751",
   "metadata": {
    "execution": {
     "iopub.execute_input": "2024-06-10T17:40:01.111338Z",
     "iopub.status.busy": "2024-06-10T17:40:01.110931Z",
     "iopub.status.idle": "2024-06-10T17:40:01.123594Z",
     "shell.execute_reply": "2024-06-10T17:40:01.122202Z",
     "shell.execute_reply.started": "2024-06-10T17:40:01.111305Z"
    },
    "papermill": {
     "duration": 0.029025,
     "end_time": "2024-06-10T18:26:35.322633",
     "exception": false,
     "start_time": "2024-06-10T18:26:35.293608",
     "status": "completed"
    },
    "tags": []
   },
   "source": [
    "importance_df"
   ]
  },
  {
   "cell_type": "code",
   "execution_count": 51,
   "id": "b7438708",
   "metadata": {
    "execution": {
     "iopub.execute_input": "2024-06-10T18:26:35.383501Z",
     "iopub.status.busy": "2024-06-10T18:26:35.382691Z",
     "iopub.status.idle": "2024-06-10T18:26:35.402262Z",
     "shell.execute_reply": "2024-06-10T18:26:35.401230Z"
    },
    "papermill": {
     "duration": 0.052541,
     "end_time": "2024-06-10T18:26:35.404561",
     "exception": false,
     "start_time": "2024-06-10T18:26:35.352020",
     "status": "completed"
    },
    "tags": []
   },
   "outputs": [
    {
     "data": {
      "text/html": [
       "<div>\n",
       "<style scoped>\n",
       "    .dataframe tbody tr th:only-of-type {\n",
       "        vertical-align: middle;\n",
       "    }\n",
       "\n",
       "    .dataframe tbody tr th {\n",
       "        vertical-align: top;\n",
       "    }\n",
       "\n",
       "    .dataframe thead th {\n",
       "        text-align: right;\n",
       "    }\n",
       "</style>\n",
       "<table border=\"1\" class=\"dataframe\">\n",
       "  <thead>\n",
       "    <tr style=\"text-align: right;\">\n",
       "      <th></th>\n",
       "      <th>PassengerId</th>\n",
       "      <th>Pclass</th>\n",
       "      <th>Name</th>\n",
       "      <th>Sex</th>\n",
       "      <th>Age</th>\n",
       "      <th>SibSp</th>\n",
       "      <th>Parch</th>\n",
       "      <th>Ticket</th>\n",
       "      <th>Fare</th>\n",
       "      <th>Cabin</th>\n",
       "      <th>Embarked</th>\n",
       "    </tr>\n",
       "  </thead>\n",
       "  <tbody>\n",
       "    <tr>\n",
       "      <th>0</th>\n",
       "      <td>892</td>\n",
       "      <td>3</td>\n",
       "      <td>Kelly, Mr. James</td>\n",
       "      <td>male</td>\n",
       "      <td>34.5</td>\n",
       "      <td>0</td>\n",
       "      <td>0</td>\n",
       "      <td>330911</td>\n",
       "      <td>7.8292</td>\n",
       "      <td>NaN</td>\n",
       "      <td>Q</td>\n",
       "    </tr>\n",
       "    <tr>\n",
       "      <th>1</th>\n",
       "      <td>893</td>\n",
       "      <td>3</td>\n",
       "      <td>Wilkes, Mrs. James (Ellen Needs)</td>\n",
       "      <td>female</td>\n",
       "      <td>47.0</td>\n",
       "      <td>1</td>\n",
       "      <td>0</td>\n",
       "      <td>363272</td>\n",
       "      <td>7.0000</td>\n",
       "      <td>NaN</td>\n",
       "      <td>S</td>\n",
       "    </tr>\n",
       "    <tr>\n",
       "      <th>2</th>\n",
       "      <td>894</td>\n",
       "      <td>2</td>\n",
       "      <td>Myles, Mr. Thomas Francis</td>\n",
       "      <td>male</td>\n",
       "      <td>62.0</td>\n",
       "      <td>0</td>\n",
       "      <td>0</td>\n",
       "      <td>240276</td>\n",
       "      <td>9.6875</td>\n",
       "      <td>NaN</td>\n",
       "      <td>Q</td>\n",
       "    </tr>\n",
       "    <tr>\n",
       "      <th>3</th>\n",
       "      <td>895</td>\n",
       "      <td>3</td>\n",
       "      <td>Wirz, Mr. Albert</td>\n",
       "      <td>male</td>\n",
       "      <td>27.0</td>\n",
       "      <td>0</td>\n",
       "      <td>0</td>\n",
       "      <td>315154</td>\n",
       "      <td>8.6625</td>\n",
       "      <td>NaN</td>\n",
       "      <td>S</td>\n",
       "    </tr>\n",
       "    <tr>\n",
       "      <th>4</th>\n",
       "      <td>896</td>\n",
       "      <td>3</td>\n",
       "      <td>Hirvonen, Mrs. Alexander (Helga E Lindqvist)</td>\n",
       "      <td>female</td>\n",
       "      <td>22.0</td>\n",
       "      <td>1</td>\n",
       "      <td>1</td>\n",
       "      <td>3101298</td>\n",
       "      <td>12.2875</td>\n",
       "      <td>NaN</td>\n",
       "      <td>S</td>\n",
       "    </tr>\n",
       "    <tr>\n",
       "      <th>...</th>\n",
       "      <td>...</td>\n",
       "      <td>...</td>\n",
       "      <td>...</td>\n",
       "      <td>...</td>\n",
       "      <td>...</td>\n",
       "      <td>...</td>\n",
       "      <td>...</td>\n",
       "      <td>...</td>\n",
       "      <td>...</td>\n",
       "      <td>...</td>\n",
       "      <td>...</td>\n",
       "    </tr>\n",
       "    <tr>\n",
       "      <th>413</th>\n",
       "      <td>1305</td>\n",
       "      <td>3</td>\n",
       "      <td>Spector, Mr. Woolf</td>\n",
       "      <td>male</td>\n",
       "      <td>NaN</td>\n",
       "      <td>0</td>\n",
       "      <td>0</td>\n",
       "      <td>A.5. 3236</td>\n",
       "      <td>8.0500</td>\n",
       "      <td>NaN</td>\n",
       "      <td>S</td>\n",
       "    </tr>\n",
       "    <tr>\n",
       "      <th>414</th>\n",
       "      <td>1306</td>\n",
       "      <td>1</td>\n",
       "      <td>Oliva y Ocana, Dona. Fermina</td>\n",
       "      <td>female</td>\n",
       "      <td>39.0</td>\n",
       "      <td>0</td>\n",
       "      <td>0</td>\n",
       "      <td>PC 17758</td>\n",
       "      <td>108.9000</td>\n",
       "      <td>C105</td>\n",
       "      <td>C</td>\n",
       "    </tr>\n",
       "    <tr>\n",
       "      <th>415</th>\n",
       "      <td>1307</td>\n",
       "      <td>3</td>\n",
       "      <td>Saether, Mr. Simon Sivertsen</td>\n",
       "      <td>male</td>\n",
       "      <td>38.5</td>\n",
       "      <td>0</td>\n",
       "      <td>0</td>\n",
       "      <td>SOTON/O.Q. 3101262</td>\n",
       "      <td>7.2500</td>\n",
       "      <td>NaN</td>\n",
       "      <td>S</td>\n",
       "    </tr>\n",
       "    <tr>\n",
       "      <th>416</th>\n",
       "      <td>1308</td>\n",
       "      <td>3</td>\n",
       "      <td>Ware, Mr. Frederick</td>\n",
       "      <td>male</td>\n",
       "      <td>NaN</td>\n",
       "      <td>0</td>\n",
       "      <td>0</td>\n",
       "      <td>359309</td>\n",
       "      <td>8.0500</td>\n",
       "      <td>NaN</td>\n",
       "      <td>S</td>\n",
       "    </tr>\n",
       "    <tr>\n",
       "      <th>417</th>\n",
       "      <td>1309</td>\n",
       "      <td>3</td>\n",
       "      <td>Peter, Master. Michael J</td>\n",
       "      <td>male</td>\n",
       "      <td>NaN</td>\n",
       "      <td>1</td>\n",
       "      <td>1</td>\n",
       "      <td>2668</td>\n",
       "      <td>22.3583</td>\n",
       "      <td>NaN</td>\n",
       "      <td>C</td>\n",
       "    </tr>\n",
       "  </tbody>\n",
       "</table>\n",
       "<p>418 rows × 11 columns</p>\n",
       "</div>"
      ],
      "text/plain": [
       "     PassengerId  Pclass                                          Name  \\\n",
       "0            892       3                              Kelly, Mr. James   \n",
       "1            893       3              Wilkes, Mrs. James (Ellen Needs)   \n",
       "2            894       2                     Myles, Mr. Thomas Francis   \n",
       "3            895       3                              Wirz, Mr. Albert   \n",
       "4            896       3  Hirvonen, Mrs. Alexander (Helga E Lindqvist)   \n",
       "..           ...     ...                                           ...   \n",
       "413         1305       3                            Spector, Mr. Woolf   \n",
       "414         1306       1                  Oliva y Ocana, Dona. Fermina   \n",
       "415         1307       3                  Saether, Mr. Simon Sivertsen   \n",
       "416         1308       3                           Ware, Mr. Frederick   \n",
       "417         1309       3                      Peter, Master. Michael J   \n",
       "\n",
       "        Sex   Age  SibSp  Parch              Ticket      Fare Cabin Embarked  \n",
       "0      male  34.5      0      0              330911    7.8292   NaN        Q  \n",
       "1    female  47.0      1      0              363272    7.0000   NaN        S  \n",
       "2      male  62.0      0      0              240276    9.6875   NaN        Q  \n",
       "3      male  27.0      0      0              315154    8.6625   NaN        S  \n",
       "4    female  22.0      1      1             3101298   12.2875   NaN        S  \n",
       "..      ...   ...    ...    ...                 ...       ...   ...      ...  \n",
       "413    male   NaN      0      0           A.5. 3236    8.0500   NaN        S  \n",
       "414  female  39.0      0      0            PC 17758  108.9000  C105        C  \n",
       "415    male  38.5      0      0  SOTON/O.Q. 3101262    7.2500   NaN        S  \n",
       "416    male   NaN      0      0              359309    8.0500   NaN        S  \n",
       "417    male   NaN      1      1                2668   22.3583   NaN        C  \n",
       "\n",
       "[418 rows x 11 columns]"
      ]
     },
     "execution_count": 51,
     "metadata": {},
     "output_type": "execute_result"
    }
   ],
   "source": [
    "X_test"
   ]
  },
  {
   "cell_type": "code",
   "execution_count": 52,
   "id": "e53a044d",
   "metadata": {
    "execution": {
     "iopub.execute_input": "2024-06-10T18:26:35.466765Z",
     "iopub.status.busy": "2024-06-10T18:26:35.465896Z",
     "iopub.status.idle": "2024-06-10T18:26:35.494107Z",
     "shell.execute_reply": "2024-06-10T18:26:35.493024Z"
    },
    "papermill": {
     "duration": 0.062127,
     "end_time": "2024-06-10T18:26:35.496602",
     "exception": false,
     "start_time": "2024-06-10T18:26:35.434475",
     "status": "completed"
    },
    "tags": []
   },
   "outputs": [],
   "source": [
    "# Preprocess the test data\n",
    "X_test[encoded_cols] = encoder.transform(X_test[categorical_columns])\n",
    "X_test_new = X_test.drop(['PassengerId','Embarked_nan','Cabin','Name','Ticket','Embarked','Pclass'], axis=1)\n",
    "X_test_new[numeric_columns] = imputer.transform(X_test_new[numeric_columns])\n",
    "X_test_new['Sex'] = X_test_new['Sex'].map(sex_mapping)\n",
    "X_test_new.loc[:, numeric_columns] = scaler.transform(X_test_new[numeric_columns])\n",
    "\n",
    "# Predict the survival on the test set\n",
    "test_predictions = model.predict(X_test_new)\n",
    "\n",
    "# Create the submission DataFrame\n",
    "submission = pd.DataFrame({\n",
    "    'PassengerId': df1['PassengerId'],\n",
    "    'Survived': test_predictions\n",
    "})\n",
    "\n",
    "# Save the submission DataFrame to a CSV file\n",
    "submission.to_csv('submission.csv', index=False)"
   ]
  },
  {
   "cell_type": "code",
   "execution_count": null,
   "id": "e8638a76",
   "metadata": {
    "papermill": {
     "duration": 0.029595,
     "end_time": "2024-06-10T18:26:35.556001",
     "exception": false,
     "start_time": "2024-06-10T18:26:35.526406",
     "status": "completed"
    },
    "tags": []
   },
   "outputs": [],
   "source": []
  }
 ],
 "metadata": {
  "kaggle": {
   "accelerator": "none",
   "dataSources": [
    {
     "databundleVersionId": 26502,
     "sourceId": 3136,
     "sourceType": "competition"
    }
   ],
   "dockerImageVersionId": 30732,
   "isGpuEnabled": false,
   "isInternetEnabled": true,
   "language": "python",
   "sourceType": "notebook"
  },
  "kernelspec": {
   "display_name": "Python 3",
   "language": "python",
   "name": "python3"
  },
  "language_info": {
   "codemirror_mode": {
    "name": "ipython",
    "version": 3
   },
   "file_extension": ".py",
   "mimetype": "text/x-python",
   "name": "python",
   "nbconvert_exporter": "python",
   "pygments_lexer": "ipython3",
   "version": "3.10.13"
  },
  "papermill": {
   "default_parameters": {},
   "duration": 21.698201,
   "end_time": "2024-06-10T18:26:36.307341",
   "environment_variables": {},
   "exception": null,
   "input_path": "__notebook__.ipynb",
   "output_path": "__notebook__.ipynb",
   "parameters": {},
   "start_time": "2024-06-10T18:26:14.609140",
   "version": "2.5.0"
  }
 },
 "nbformat": 4,
 "nbformat_minor": 5
}
